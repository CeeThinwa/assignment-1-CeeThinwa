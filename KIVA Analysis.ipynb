{
 "cells": [
  {
   "cell_type": "markdown",
   "metadata": {},
   "source": [
    "# ASSIGNMENT 1 (adapted from https://bit.ly/2J7G9f8)\n",
    "\n",
    "## PROBLEM:\n",
    "\n",
    "### Context\n",
    "\n",
    "Kiva.org is an online crowdfunding platform to extend financial services to poor and financially excluded people around the world. Kiva lenders have provided over $1 billion dollars in loans to over 2 million people.\n",
    "\n",
    "In order to set investment priorities, help inform lenders, and understand their target communities, knowing the level of poverty of each borrower is critical. However, this requires inference based on a limited set of information for each borrower.\n",
    "\n",
    "Submissions in this challenge will take the form of Python data analysis.\n",
    "\n",
    "Kiva has provided a dataset of loans issued over the 2014-2018 time period, and participants are invited to use this data as well as source external public datasets to help Kiva build models for assessing borrower welfare levels. With a stronger understanding of their borrowers and their poverty levels, Kiva will be able to better assess and maximize the impact of their work.\n"
   ]
  },
  {
   "cell_type": "markdown",
   "metadata": {},
   "source": [
    "### Problem statement\n",
    "\n",
    "For the locations in which Kiva has active loans, the objective is to pair Kiva's data with additional data sources to estimate the welfare level of borrowers in specific regions, based on shared economic and demographic characteristics.\n",
    "\n",
    "A good solution would connect the features of each loan or product to one of several poverty mapping datasets, which indicate the average level of welfare in a region on as granular a level as possible. Many datasets indicate the poverty rate in a given area, with varying levels of granularity. Kiva would like to be able to disaggregate these regional averages by gender, sector, or borrowing behavior in order to estimate a Kiva borrower’s level of welfare using all of the relevant information about them. Strong submissions will attempt to map vaguely described locations to more accurate geocodes."
   ]
  },
  {
   "cell_type": "markdown",
   "metadata": {},
   "source": [
    "### Personal disclaimer\n",
    "\n",
    "From a research perspective, the results obtained are never going to be a full representation of the realities that borrowers experience. It is meant to spark a discussion around how we can identify the welfare level of borrowers and improve them where we can."
   ]
  },
  {
   "cell_type": "markdown",
   "metadata": {},
   "source": [
    "## SOLUTION:"
   ]
  },
  {
   "cell_type": "markdown",
   "metadata": {},
   "source": [
    "**insert image summarizing the story here**"
   ]
  },
  {
   "cell_type": "markdown",
   "metadata": {},
   "source": [
    "### Python Packages"
   ]
  },
  {
   "cell_type": "code",
   "execution_count": 1,
   "metadata": {},
   "outputs": [],
   "source": [
    "# Packages\n",
    "import numpy as np\n",
    "import pandas as pd\n",
    "\n",
    "import matplotlib.pyplot as plt\n",
    "import matplotlib.dates as mdates\n",
    "\n",
    "import cartopy.crs as ccrs\n",
    "\n",
    "import collections"
   ]
  },
  {
   "cell_type": "markdown",
   "metadata": {},
   "source": [
    "### Data\n",
    "*Here we upload all the Python packages and datasets required for analysis*"
   ]
  },
  {
   "cell_type": "markdown",
   "metadata": {},
   "source": [
    "#### 1. Original Data"
   ]
  },
  {
   "cell_type": "code",
   "execution_count": null,
   "metadata": {},
   "outputs": [],
   "source": [
    "# Original Data\n",
    "loan_data = pd.read_csv('C://Users//CT//Documents//data-science-for-good-kiva-crowdfunding//kiva_loans.csv')\n",
    "location_data = pd.read_csv('C://Users//CT//Documents//data-science-for-good-kiva-crowdfunding//kiva_mpi_region_locations.csv')\n",
    "loan_themes  = pd.read_csv('C://Users//CT//Documents//data-science-for-good-kiva-crowdfunding//loan_theme_ids.csv')\n",
    "regional_lts = pd.read_csv('C://Users//CT//Documents//data-science-for-good-kiva-crowdfunding//loan_themes_by_region.csv')"
   ]
  },
  {
   "cell_type": "markdown",
   "metadata": {},
   "source": [
    "##### Descriptions of the original datasets\n",
    "\n",
    "There are four data sources provided by Kiva:\n",
    "\n",
    "* ***loan_data***\n",
    "   1. **id** - Unique ID for loan\n",
    "   2. **funded_amount** - The amount disbursed by Kiva to the field agent(USD)\n",
    "   3. **loan_amount** - The amount disbursed by the field agent to the borrower(USD)\n",
    "   4. **activity** - More granular category\n",
    "   5. **sector** - High level category\n",
    "   6. **use** - Exact usage of loan amount\n",
    "   7. **country_code** - ISO country code of country in which loan was disbursed\n",
    "   8. **country** - Full country name of country in which loan was disbursed\n",
    "   9. **region** - Full region name within the country\n",
    "   10. **currency** - The currency in which the loan was disbursed\n",
    "   11. **partner_id** - ID of partner organization\n",
    "   12. **posted_time** - The time at which the loan is posted on Kiva by the field agent\n",
    "   13. **disbursed_time** - The time at which the loan is disbursed by the field agent to the borrower\n",
    "   14. **funded_time** - The time at which the loan posted to Kiva gets funded by lenders completely\n",
    "   15. **term_in_months** - The duration for which the loan was disbursed in months\n",
    "   16. **lender_count** - The total number of lenders that contributed to this loan\n",
    "   17. **tags**\n",
    "   18. **borrower_genders** - Comma separated M,F letters, where each instance represents a single male/female in the group\n",
    "   19. **repayment_interval**\n",
    "   20. **date**\n",
    "   \n",
    "####  \n",
    "\n",
    "* ***location_data***\n",
    "   1. **LocationName** - region, country\n",
    "   2. **ISO** - some sort of unique abbreviation for country   \n",
    "   3. **country** - country   \n",
    "   4. **region** - region within country   \n",
    "   5. **world_region** - parts of the world   \n",
    "   6. **MPI** - multidimensional poverty index   \n",
    "   7. **geo** - (latitude, longitude)\n",
    "   8. **lat** - latitude   \n",
    "   9. **lon** - longitude\n",
    "   \n",
    "####  \n",
    "\n",
    "* ***loan_themes***\n",
    "   1. **id** - Unique ID for loan (Loan ID)   \n",
    "   2. **Loan Theme ID** - ID for Loan Theme   \n",
    "   3. **Loan Theme Type** - Category name of type of loan   \n",
    "   4. **Partner ID**\n",
    "   \n",
    "####  \n",
    "\n",
    "* ***regional_lts***\n",
    "   1. **Partner ID**   \n",
    "   2. **Field Partner Name**\n",
    "   3. **sector**\n",
    "   4. **Loan Theme ID**\n",
    "   5. **Loan Theme Type**  \n",
    "   6. **country**   \n",
    "   7. **forkiva**   \n",
    "   8. **region**\n",
    "   9. **geocode_old**   \n",
    "   10. **ISO**   \n",
    "   11. **number**\n",
    "   12. **amount**\n",
    "   13. **LocationName**\n",
    "   14. **geocode**\n",
    "   15. **names**\n",
    "   16. **geo**\n",
    "   17. **lat**\n",
    "   18. **lon**\n",
    "   19. **mpi_region**\n",
    "   20. **mpi_geo**\n",
    "   21. **rural_pct**\n",
    "\n",
    "\n"
   ]
  },
  {
   "cell_type": "code",
   "execution_count": null,
   "metadata": {},
   "outputs": [],
   "source": [
    "loan_data.head(5)"
   ]
  },
  {
   "cell_type": "code",
   "execution_count": null,
   "metadata": {},
   "outputs": [],
   "source": [
    "location_data.head(5)"
   ]
  },
  {
   "cell_type": "code",
   "execution_count": null,
   "metadata": {},
   "outputs": [],
   "source": [
    "loan_themes.head(5)"
   ]
  },
  {
   "cell_type": "code",
   "execution_count": null,
   "metadata": {
    "scrolled": true
   },
   "outputs": [],
   "source": [
    "regional_lts.head(5)"
   ]
  },
  {
   "cell_type": "markdown",
   "metadata": {},
   "source": [
    "#### 2. Supplementary Data\n",
    "\n",
    "In this section, we aim to gather the following data from the World Bank:\n",
    "\n",
    "1. [Per Capita Expenditure (PCE)](https://www.quora.com/What-does-per-capita-expenditure-mean?share=1) for each country - *this is the total market value of all purchases in a country divided by that country's total population* (data: https://bit.ly/3blw0be)\n",
    "2. [Multidimensional poverty headcount ratio](https://duckduckgo.com/?t=ffab&q=headcount+ratio+meaning&ia=web) - *this is the proportion of a country's population that lives, below the poverty line.* (data: https://bit.ly/2VfM2hi)\n",
    "3. [GDP per capita (2011 PPP)](http://hdr.undp.org/en/content/gdp-per-capita-2011-ppp) for each country - *this is the sum of gross value added by all resident producers in the economy plus any product taxes and minus any subsidies not included in the value of the products, expressed in international dollars using purchasing power parity rates and divided by total population of the same period.*"
   ]
  },
  {
   "cell_type": "code",
   "execution_count": null,
   "metadata": {},
   "outputs": [],
   "source": [
    "# Per Capita Expenditure\n",
    "PCE_data = pd.read_html('C://Users//CT//Documents//data-science-for-good-kiva-crowdfunding//PCE data.html')\n",
    "PCE_data = PCE_data[0]\n",
    "PCE_data = pd.DataFrame(PCE_data)\n",
    "\n",
    "# World Bank Gross data\n",
    "db_data = pd.read_csv('C://Users//CT//Documents//data-science-for-good-kiva-crowdfunding//Data_Extract_From_Poverty_and_Equity//806b9aec-08c0-45f0-8acc-e02a84ec7c9c_Data.csv')"
   ]
  },
  {
   "cell_type": "code",
   "execution_count": null,
   "metadata": {},
   "outputs": [],
   "source": [
    "PCE_data.head(5)"
   ]
  },
  {
   "cell_type": "code",
   "execution_count": null,
   "metadata": {},
   "outputs": [],
   "source": [
    "db_data.head(5)"
   ]
  },
  {
   "cell_type": "code",
   "execution_count": null,
   "metadata": {},
   "outputs": [],
   "source": [
    "db_data['Series Name'].unique()"
   ]
  },
  {
   "cell_type": "markdown",
   "metadata": {},
   "source": [
    "### Exploratory Data Analysis\n",
    "\n",
    "#### The impact of KIVA donors\n",
    "\n",
    "In this section, we seek to explore the data to answer certain questions around KIVA donor contributions\n",
    "\n",
    "##### 1. How much of the total loan amount has Kiva financed?"
   ]
  },
  {
   "cell_type": "code",
   "execution_count": null,
   "metadata": {},
   "outputs": [],
   "source": [
    "# calculate the percentage of loan requests that have been funded\n",
    "percentage1 = (loan_data.funded_amount.sum()/loan_data.loan_amount.sum())*100\n",
    "percentage1 = round(percentage1, 2)\n",
    "\n",
    "# display the result\n",
    "print('Kiva has financed '+str(percentage1)+\"% of its borrowers' loans\")"
   ]
  },
  {
   "cell_type": "markdown",
   "metadata": {},
   "source": [
    "##### 2. How much money have Kiva donors contributed over time?"
   ]
  },
  {
   "cell_type": "code",
   "execution_count": null,
   "metadata": {},
   "outputs": [],
   "source": [
    "# convert datetime values to appropriate formats\n",
    "loan_data['posted_time'] = loan_data['posted_time'].astype('datetime64')\n",
    "loan_data['disbursed_time'] = loan_data['disbursed_time'].astype('datetime64')\n",
    "loan_data['funded_time'] = loan_data['funded_time'].astype('datetime64')\n",
    "\n",
    "# pick out dates\n",
    "loan_data.loc[:,'disbursement_date'] = loan_data['disbursed_time'].dt.date\n",
    "loan_data['disbursement_date'] = loan_data['disbursement_date']"
   ]
  },
  {
   "cell_type": "code",
   "execution_count": null,
   "metadata": {},
   "outputs": [],
   "source": [
    "# confirming datatype conversion\n",
    "loan_data.dtypes"
   ]
  },
  {
   "cell_type": "code",
   "execution_count": null,
   "metadata": {},
   "outputs": [],
   "source": [
    "# create a pivot-table\n",
    "tab1 = pd.pivot_table(loan_data, values='funded_amount', index=['disbursement_date'], aggfunc='sum')\n",
    "\n",
    "# plot this table\n",
    "fig, ax = plt.subplots()\n",
    "ax.plot(tab1.index, tab1['funded_amount'])\n",
    "\n",
    "# rotate and align the tick labels so they look better\n",
    "fig.autofmt_xdate()\n",
    "\n",
    "# declare the title and show the completed graph\n",
    "ax.set_title('Total funds contributed over time (USD)')\n",
    "plt.show()"
   ]
  },
  {
   "cell_type": "markdown",
   "metadata": {},
   "source": [
    "The distribution of their daily contribution is as follows:"
   ]
  },
  {
   "cell_type": "code",
   "execution_count": null,
   "metadata": {},
   "outputs": [],
   "source": [
    "# convert data to thousands of US dollars for ease of visualization\n",
    "funded_amount_in_thousands = tab1['funded_amount']/1000\n",
    "\n",
    "# display characteristics of daily contributions\n",
    "\n",
    "print(\"Characteristics of daily contributions in USD '000\")\n",
    "print(funded_amount_in_thousands.describe())\n",
    "print('')\n",
    "print('     mode: ')\n",
    "print(funded_amount_in_thousands.mode())\n",
    "\n",
    "# plot daily amounts distribution\n",
    "fig, ax = plt.subplots()\n",
    "\n",
    "\n",
    "ax.hist(funded_amount_in_thousands)\n",
    "\n",
    "ax.set_title(\"Histogram of total funds donated daily (USD '000)\")\n",
    "plt.show()"
   ]
  },
  {
   "cell_type": "markdown",
   "metadata": {},
   "source": [
    "##### 3. How much money have Kiva donors given to individual loans?"
   ]
  },
  {
   "cell_type": "code",
   "execution_count": null,
   "metadata": {},
   "outputs": [],
   "source": [
    "# create a pivot-table\n",
    "loan_count_per_funded_amount = pd.pivot_table(loan_data, values='id', index=['funded_amount'], aggfunc='count')\n",
    "\n",
    "# rename the column\n",
    "loan_count_per_funded_amount.columns = ['number_of_loans']\n",
    "\n",
    "# sort the results in descending order\n",
    "loan_count_per_funded_amount = loan_count_per_funded_amount.sort_values(by=['number_of_loans'], ascending=False)\n",
    "\n",
    "# and display top 10 results\n",
    "loan_count_per_funded_amount.head(10)"
   ]
  },
  {
   "cell_type": "code",
   "execution_count": null,
   "metadata": {},
   "outputs": [],
   "source": [
    "# display characteristics of total funds donated to individual loans\n",
    "print(\"Characteristics of total funds donated to individual loans in USD\")\n",
    "print(loan_data['funded_amount'].describe())\n",
    "print('')\n",
    "\n",
    "# plot all individual contributions\n",
    "fig, ax = plt.subplots()\n",
    "\n",
    "ax.hist(loan_data['funded_amount'])\n",
    "\n",
    "ax.set_title(\"Histogram of total funds donated to individual loans (USD)\")\n",
    "plt.show()"
   ]
  },
  {
   "cell_type": "markdown",
   "metadata": {},
   "source": [
    "##### 4. How much money have Kiva donors given to individual countries?"
   ]
  },
  {
   "cell_type": "code",
   "execution_count": null,
   "metadata": {},
   "outputs": [],
   "source": [
    "# create a pivot-table\n",
    "tab2 = pd.pivot_table(loan_data, values='funded_amount', index=['country'], aggfunc='sum')\n",
    "\n",
    "# sort the results in descending order\n",
    "tab2 = tab2.sort_values(by=['funded_amount'], ascending=False)\n",
    "\n",
    "# rename the aggregated column to an appropiate label\n",
    "tab2.columns = ['sum_of_funded_amount']\n",
    "\n",
    "# make some index entries into columns\n",
    "tab2 = tab2.reset_index(level=['country'])\n",
    "\n",
    "# and display top 10 results\n",
    "tab2.head(10)"
   ]
  },
  {
   "cell_type": "code",
   "execution_count": null,
   "metadata": {},
   "outputs": [],
   "source": [
    "# abbreviate the numbers into millions\n",
    "funded_amount_in_millions = tab2['sum_of_funded_amount']/1000000\n",
    "\n",
    "# display a summary of the data\n",
    "print(\"Characteristics of total funds donated to individual countries in million USD\")\n",
    "print(funded_amount_in_millions.describe())\n",
    "print('')\n",
    "\n",
    "# plot all contributions recieved by individual countries\n",
    "fig, ax = plt.subplots()\n",
    "\n",
    "ax.hist(funded_amount_in_millions)\n",
    "\n",
    "ax.set_title(\"Histogram of total funds donated to individual countries (million USD)\")\n",
    "plt.show()"
   ]
  },
  {
   "cell_type": "code",
   "execution_count": null,
   "metadata": {},
   "outputs": [],
   "source": [
    "# create a pivot-table\n",
    "loans_per_country = pd.pivot_table(loan_data, values='id', index=['country'], aggfunc='count')\n",
    "\n",
    "# sort the results in descending order\n",
    "loans_per_country = loans_per_country.sort_values(by=['id'], ascending=False)\n",
    "\n",
    "# rename the aggregated column to an appropiate label\n",
    "loans_per_country.columns = ['number_of_loans']\n",
    "\n",
    "# make some index entries into columns\n",
    "loans_per_country = loans_per_country.reset_index(level=['country'])\n",
    "\n",
    "# and display top 10 results\n",
    "loans_per_country.head(10)"
   ]
  },
  {
   "cell_type": "code",
   "execution_count": null,
   "metadata": {},
   "outputs": [],
   "source": [
    "# initial status message\n",
    "print('The shape of tab2 before merge: ', tab2.shape)\n",
    "\n",
    "# join the data, keeping only relevant entries\n",
    "tab2 = tab2.merge(loans_per_country, on='country')\n",
    "\n",
    "# final status message\n",
    "print('The shape of tab2 after merge: ', tab2.shape)"
   ]
  },
  {
   "cell_type": "code",
   "execution_count": null,
   "metadata": {},
   "outputs": [],
   "source": [
    "# add a calculated column to the newly merged tab2\n",
    "tab2.loc[:, 'contribution_per_loan'] = tab2['sum_of_funded_amount']/tab2['number_of_loans']\n",
    "\n",
    "# sort the results in descending order\n",
    "tab2 = tab2.sort_values(by=['contribution_per_loan'], ascending=True)\n",
    "\n",
    "# and display top 10 results\n",
    "tab2.head(20)"
   ]
  },
  {
   "cell_type": "markdown",
   "metadata": {},
   "source": [
    "##### 5. What is the geographical footprint of where funds given by KIVA donors end up?"
   ]
  },
  {
   "cell_type": "code",
   "execution_count": null,
   "metadata": {},
   "outputs": [],
   "source": [
    "# make a copy of the loan_data dataset and combine it with partner data\n",
    "loan_data_copy = loan_data.copy()\n",
    "\n",
    "# ensure that the common column is the same datatype and they share the same name\n",
    "# the datatype chosen was float64 to preserve any decimal points\n",
    "print(loan_data_copy.iloc[:,10].name) # original name; stays the same\n",
    "print('')\n",
    "\n",
    "print(regional_lts.iloc[:,0].name) #original name - will be changed\n",
    "#change column name\n",
    "regional_lts.columns = ['partner_id', 'Field Partner Name', 'sector',\n",
    "                        'Loan Theme ID', 'Loan Theme Type', 'country',\n",
    "                        'forkiva', 'region', 'geocode_old',\n",
    "                        'ISO', 'number', 'amount',\n",
    "                        'LocationName', 'geocode', 'names',\n",
    "                        'geo', 'lat', 'lon',\n",
    "                        'mpi_region', 'mpi_geo', 'rural_pct']\n",
    "# confirm change\n",
    "print(regional_lts.iloc[:,0].name)\n",
    "\n",
    "# change the datatype\n",
    "regional_lts.iloc[:,0] = regional_lts.iloc[:,0].astype('float64')"
   ]
  },
  {
   "cell_type": "code",
   "execution_count": null,
   "metadata": {},
   "outputs": [],
   "source": [
    "regional_lts.dtypes"
   ]
  },
  {
   "cell_type": "code",
   "execution_count": null,
   "metadata": {},
   "outputs": [],
   "source": [
    "regional_lts.shape"
   ]
  },
  {
   "cell_type": "code",
   "execution_count": null,
   "metadata": {},
   "outputs": [],
   "source": [
    "# create a pivot-table\n",
    "tab3 = pd.pivot_table(loan_data_copy, values='funded_amount', index=['partner_id'], aggfunc='sum')\n",
    "\n",
    "# sort the results in descending order\n",
    "tab3 = tab3.sort_values(by=['funded_amount'], ascending=False)\n",
    "\n",
    "# rename the aggregated column to an appropiate label\n",
    "tab3.columns = ['sum_of_funded_amount']\n",
    "\n",
    "# make some index entries into columns\n",
    "tab3 = tab3.reset_index(level=['partner_id'])\n",
    "\n",
    "# and display top 10 results\n",
    "tab3.head(10)"
   ]
  },
  {
   "cell_type": "code",
   "execution_count": null,
   "metadata": {},
   "outputs": [],
   "source": [
    "# create a pivot-table\n",
    "tab4 = pd.pivot_table(regional_lts, values='amount',\n",
    "                      index=['partner_id', 'Field Partner Name',\n",
    "                             'country'],\n",
    "                      aggfunc='count')\n",
    "\n",
    "# sort the results in descending order\n",
    "tab4 = tab4.sort_values(by=['amount'], ascending=False)\n",
    "\n",
    "# rename the aggregated column to an appropiate label\n",
    "tab4.columns = ['count_of_amount']\n",
    "\n",
    "# make some index entries into columns\n",
    "tab4 = tab4.reset_index(level=['partner_id', 'Field Partner Name', 'country'])\n",
    "\n",
    "# and display top 10 results\n",
    "tab4.head(10)"
   ]
  },
  {
   "cell_type": "code",
   "execution_count": null,
   "metadata": {},
   "outputs": [],
   "source": [
    "# create a pivot-table\n",
    "tab5 = pd.pivot_table(loan_data_copy, values='id', index=['partner_id'], aggfunc='count')\n",
    "\n",
    "# sort the results in descending order\n",
    "tab5 = tab5.sort_values(by=['id'], ascending=False)\n",
    "\n",
    "# rename the aggregated column to an appropiate label\n",
    "tab5.columns = ['number_of_loans']\n",
    "\n",
    "# make some index entries into columns\n",
    "tab5 = tab5.reset_index(level=['partner_id'])\n",
    "\n",
    "# and display top 10 results\n",
    "tab5.head(10)"
   ]
  },
  {
   "cell_type": "code",
   "execution_count": null,
   "metadata": {},
   "outputs": [],
   "source": [
    "# initial status message\n",
    "print('The shape of tab3 before merge: ', tab3.shape)\n",
    "\n",
    "# join the data, keeping only relevant entries\n",
    "tab3 = tab3.merge(tab5, on='partner_id')\n",
    "\n",
    "# final status message\n",
    "print('The shape of tab3 after merge: ', tab3.shape)"
   ]
  },
  {
   "cell_type": "code",
   "execution_count": null,
   "metadata": {},
   "outputs": [],
   "source": [
    "# initial status message\n",
    "print('The shape of tab3 before merge: ', tab3.shape)\n",
    "\n",
    "# join the data, keeping only relevant entries\n",
    "tab3 = tab3.merge(tab4, on='partner_id')\n",
    "\n",
    "# final status message\n",
    "print('The shape of tab3 after merge: ', tab3.shape)"
   ]
  },
  {
   "cell_type": "code",
   "execution_count": null,
   "metadata": {},
   "outputs": [],
   "source": [
    "percentage2 = tab3.shape[0]/366 * 100\n",
    "percentage2 = round(percentage2, 0)\n",
    "\n",
    "print('Out of the 366 partners that disbursed loans, KIVA had the contact details of '+str(percentage2)+'% of them.')"
   ]
  },
  {
   "cell_type": "code",
   "execution_count": null,
   "metadata": {},
   "outputs": [],
   "source": [
    "# to have more details of the partners that received the most funding by KIVA,\n",
    "# sort the results in descending order\n",
    "tab3 = tab3.sort_values(by=['sum_of_funded_amount'], ascending=False)\n",
    "\n",
    "# drop the unecessary columns\n",
    "tab3 = tab3.drop('count_of_amount',1)\n",
    "\n",
    "# display top 10 results; do they match with the original tab3?\n",
    "tab3.head(10)"
   ]
  },
  {
   "cell_type": "markdown",
   "metadata": {},
   "source": [
    "They match! The Partner IDs are exactly the same in both lists."
   ]
  },
  {
   "cell_type": "code",
   "execution_count": null,
   "metadata": {},
   "outputs": [],
   "source": [
    "# add a calculated column to the newly merged tab3\n",
    "tab3.loc[:, 'contribution_per_loan'] = tab3['sum_of_funded_amount']/tab3['number_of_loans']\n",
    "\n",
    "# sort the results in descending order\n",
    "tab3 = tab3.sort_values(by=['contribution_per_loan'], ascending=False)\n",
    "\n",
    "# and display top 25 results\n",
    "tab3.head(25)"
   ]
  },
  {
   "cell_type": "markdown",
   "metadata": {},
   "source": [
    "The per capita contribution shows most of the largest contributions per loan actually went directly to social impact businesses."
   ]
  },
  {
   "cell_type": "markdown",
   "metadata": {},
   "source": [
    "#### The characteristics of KIVA borrowers\n",
    "\n",
    "In this section, we seek to understand KIVA borrower characteristics.\n",
    "\n",
    "##### 1. What is the size of the shortfall for each individual borrower in a given sector?"
   ]
  },
  {
   "cell_type": "code",
   "execution_count": null,
   "metadata": {},
   "outputs": [],
   "source": [
    "# create a pivot-table\n",
    "tab6 = pd.pivot_table(loan_data_copy, values='funded_amount', index=['sector'], aggfunc='sum')\n",
    "\n",
    "# sort the results in descending order\n",
    "tab6 = tab6.sort_values(by=['funded_amount'], ascending=False)\n",
    "\n",
    "# rename the aggregated column to an appropiate label\n",
    "tab6.columns = ['sum_of_funded_amount']\n",
    "\n",
    "# make some index entries into columns\n",
    "tab6 = tab6.reset_index(level=['sector'])\n",
    "\n",
    "# and display top 10 results\n",
    "tab6.head(10)"
   ]
  },
  {
   "cell_type": "code",
   "execution_count": null,
   "metadata": {},
   "outputs": [],
   "source": [
    "loans_by_sector = pd.pivot_table(loan_data_copy, values='id', index=['sector'], aggfunc='count')\n",
    "\n",
    "# sort the results in descending order\n",
    "loans_by_sector = loans_by_sector.sort_values(by=['id'], ascending=False)\n",
    "\n",
    "# rename the aggregated column to an appropiate label\n",
    "loans_by_sector.columns = ['number_of_loans']\n",
    "\n",
    "# make some index entries into columns\n",
    "loans_by_sector = loans_by_sector.reset_index(level=['sector'])\n",
    "\n",
    "# and display top 10 results\n",
    "loans_by_sector.head(10)"
   ]
  },
  {
   "cell_type": "code",
   "execution_count": null,
   "metadata": {},
   "outputs": [],
   "source": [
    "# create a pivot-table\n",
    "loan_amounts_by_sector = pd.pivot_table(loan_data_copy, values='loan_amount', index=['sector'], aggfunc='sum')\n",
    "\n",
    "# sort the results in descending order\n",
    "loan_amounts_by_sector = loan_amounts_by_sector.sort_values(by=['loan_amount'], ascending=False)\n",
    "\n",
    "# rename the aggregated column to an appropiate label\n",
    "loan_amounts_by_sector.columns = ['sum_of_loan_amount']\n",
    "\n",
    "# make some index entries into columns\n",
    "loan_amounts_by_sector = loan_amounts_by_sector.reset_index(level=['sector'])\n",
    "\n",
    "# and display top 10 results\n",
    "loan_amounts_by_sector.head(10)"
   ]
  },
  {
   "cell_type": "code",
   "execution_count": null,
   "metadata": {},
   "outputs": [],
   "source": [
    "# initial status message\n",
    "print('The shape of tab6 before merge: ', tab6.shape)\n",
    "\n",
    "# join the data, keeping only relevant entries\n",
    "tab6 = tab6.merge(loans_by_sector, on='sector')\n",
    "\n",
    "# final status message\n",
    "print('The shape of tab6 after merge: ', tab6.shape)"
   ]
  },
  {
   "cell_type": "code",
   "execution_count": null,
   "metadata": {},
   "outputs": [],
   "source": [
    "# initial status message\n",
    "print('The shape of tab6 before merge: ', tab6.shape)\n",
    "\n",
    "# join the data, keeping only relevant entries\n",
    "tab6 = tab6.merge(loan_amounts_by_sector, on='sector')\n",
    "\n",
    "# final status message\n",
    "print('The shape of tab6 after merge: ', tab6.shape)"
   ]
  },
  {
   "cell_type": "code",
   "execution_count": null,
   "metadata": {},
   "outputs": [],
   "source": [
    "# assess additional metrics\n",
    "tab6.loc[:, 'donor_contribution_per_loan'] = tab6['sum_of_funded_amount']/tab6['number_of_loans']\n",
    "tab6.loc[:, 'funding_gap_per_loan'] = (tab6['sum_of_loan_amount'] - tab6['sum_of_funded_amount'])/tab6['number_of_loans']\n",
    "\n",
    "# display all results\n",
    "tab6"
   ]
  },
  {
   "cell_type": "markdown",
   "metadata": {},
   "source": [
    "##### 2. How were loans and funding distributed across the genders?"
   ]
  },
  {
   "cell_type": "code",
   "execution_count": null,
   "metadata": {},
   "outputs": [],
   "source": [
    "# count frequency of female and male to identify number of borrowers\n",
    "loan_data_copy.loc[:, 'number_of_all_borrowers'] = loan_data_copy['borrower_genders'].str.count('male') # counts both instances of female and male - they share the 'male' element\n",
    "loan_data_copy.loc[:, 'number_of_female_borrowers'] = loan_data_copy['borrower_genders'].str.count('female')\n",
    "loan_data_copy.loc[:, 'number_of_male_borrowers'] = loan_data_copy['number_of_all_borrowers'] - loan_data_copy['number_of_female_borrowers']"
   ]
  },
  {
   "cell_type": "code",
   "execution_count": null,
   "metadata": {},
   "outputs": [],
   "source": [
    "# create a pivot-table\n",
    "tab7 = pd.pivot_table(loan_data_copy, values=['term_in_months', 'number_of_all_borrowers', 'number_of_male_borrowers', 'number_of_female_borrowers', 'loan_amount', 'funded_amount'], index=['repayment_interval'], aggfunc='sum')\n",
    "\n",
    "# sort the results in descending order\n",
    "tab7 = tab7.sort_values(by=['number_of_all_borrowers'], ascending=False)\n",
    "\n",
    "# rename the aggregated column to an appropiate label\n",
    "#tab7.columns = ['sum_of_funded_amount', 'sum_of_loan_amount', 'total_number_of_borrowers', 'total_female_borrowers', 'total_male_borrowers']\n",
    "\n",
    "# make some index entries into columns\n",
    "tab7 = tab7.reset_index(level=['repayment_interval'])\n",
    "\n",
    "# and display all results\n",
    "tab7"
   ]
  },
  {
   "cell_type": "code",
   "execution_count": null,
   "metadata": {},
   "outputs": [],
   "source": [
    "# create a pivot-table\n",
    "loan_repayment = pd.pivot_table(loan_data_copy, values='id', index=['repayment_interval'], aggfunc='count')\n",
    "\n",
    "# sort the results in descending order\n",
    "loan_repayment = loan_repayment.sort_values(by=['id'], ascending=False)\n",
    "\n",
    "# rename the aggregated column to an appropiate label\n",
    "loan_repayment.columns = ['number_of_loans']\n",
    "\n",
    "# make some index entries into columns\n",
    "loan_repayment = loan_repayment.reset_index(level=['repayment_interval'])\n",
    "\n",
    "# and display all results\n",
    "loan_repayment"
   ]
  },
  {
   "cell_type": "code",
   "execution_count": null,
   "metadata": {},
   "outputs": [],
   "source": [
    "# initial status message\n",
    "print('The shape of tab7 before merge: ', tab7.shape)\n",
    "\n",
    "# join the data, keeping only relevant entries\n",
    "tab7 = tab7.merge(loan_repayment, on='repayment_interval')\n",
    "\n",
    "# final status message\n",
    "print('The shape of tab7 after merge: ', tab7.shape)"
   ]
  },
  {
   "cell_type": "code",
   "execution_count": null,
   "metadata": {},
   "outputs": [],
   "source": [
    "tab7"
   ]
  },
  {
   "cell_type": "markdown",
   "metadata": {},
   "source": [
    "##### 10. What is the predominant use of these funds?\n",
    "\n",
    "text analysis of use in loan_data"
   ]
  },
  {
   "cell_type": "markdown",
   "metadata": {},
   "source": [
    "#### Global welfare\n",
    "\n",
    "In this section, we seek to explore the data to understand the financial well-being of various countries"
   ]
  },
  {
   "cell_type": "markdown",
   "metadata": {},
   "source": [
    "##### 1. How much does the average citizen of each country earn on a regular basis?\n",
    "\n",
    "2011 PPP (slice a copy of the data and describe this data) then compare this metric to per capita contribution (via share of wallet) adjusted for the loan term (to make all time as homogenous as possible - expressed on an annual basis) and the loan amount itself"
   ]
  },
  {
   "cell_type": "markdown",
   "metadata": {},
   "source": [
    "##### 2. How much does the average citizen of each country spend on a regular basis?\n",
    "\n",
    "PCE data then compare this metric to the loan amount adjusted for the loan term"
   ]
  },
  {
   "cell_type": "markdown",
   "metadata": {},
   "source": [
    "##### 3. What level of poverty does the average citizen of each country experience?\n",
    "\n",
    "MPI over time"
   ]
  },
  {
   "cell_type": "markdown",
   "metadata": {},
   "source": []
  }
 ],
 "metadata": {
  "kernelspec": {
   "display_name": "Python 3",
   "language": "python",
   "name": "python3"
  },
  "language_info": {
   "codemirror_mode": {
    "name": "ipython",
    "version": 3
   },
   "file_extension": ".py",
   "mimetype": "text/x-python",
   "name": "python",
   "nbconvert_exporter": "python",
   "pygments_lexer": "ipython3",
   "version": "3.7.6"
  }
 },
 "nbformat": 4,
 "nbformat_minor": 4
}
