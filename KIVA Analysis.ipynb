{
 "cells": [
  {
   "cell_type": "markdown",
   "metadata": {},
   "source": [
    "# ASSIGNMENT 1 (adapted from https://bit.ly/2J7G9f8)\n",
    "\n",
    "## Introduction\n",
    "\n",
    "### Context\n",
    "\n",
    "Kiva.org is an online crowdfunding platform to extend financial services to poor and financially excluded people around the world. Kiva lenders have provided over $1 billion dollars in loans to over 2 million people.\n",
    "\n",
    "In order to set investment priorities, help inform lenders, and understand their target communities, knowing the level of poverty of each borrower is critical. However, this requires inference based on a limited set of information for each borrower.\n",
    "\n",
    "Submissions in this challenge will take the form of Python data analysis.\n",
    "\n",
    "Kiva has provided a dataset of loans issued over the 2016-2018 time period, and participants are invited to use this data as well as source external public datasets to help Kiva build models for assessing borrower welfare levels. With a stronger understanding of their borrowers and their poverty levels, Kiva will be able to better assess and maximize the impact of their work.\n"
   ]
  },
  {
   "cell_type": "markdown",
   "metadata": {},
   "source": [
    "### Problem statement\n",
    "\n",
    "For the locations in which Kiva has active loans, the objective is to pair Kiva's data with additional data sources to estimate the welfare level of borrowers in specific regions, based on shared economic and demographic characteristics.\n",
    "\n",
    "A good solution would connect the features of each loan or product to one of several poverty mapping datasets, which indicate the average level of welfare in a region on as granular a level as possible. Many datasets indicate the poverty rate in a given area, with varying levels of granularity. Kiva would like to be able to disaggregate these regional averages by gender, sector, or borrowing behavior in order to estimate a Kiva borrower’s level of welfare using all of the relevant information about them. Strong submissions will attempt to map vaguely described locations to more accurate geocodes."
   ]
  },
  {
   "cell_type": "markdown",
   "metadata": {},
   "source": [
    "### Personal disclaimer\n",
    "\n",
    "From a research perspective, the results obtained are never going to be a full representation of the realities that borrowers experience. It is meant to spark a discussion around how we can identify the welfare level of borrowers and improve them where we can."
   ]
  },
  {
   "cell_type": "markdown",
   "metadata": {},
   "source": [
    "## SOLUTION:"
   ]
  },
  {
   "cell_type": "markdown",
   "metadata": {},
   "source": [
    "*Here we upload all the Python packages and datasets required for analysis*"
   ]
  },
  {
   "cell_type": "code",
   "execution_count": 1,
   "metadata": {},
   "outputs": [],
   "source": [
    "# Packages\n",
    "import numpy as np\n",
    "import pandas as pd"
   ]
  },
  {
   "cell_type": "code",
   "execution_count": 2,
   "metadata": {},
   "outputs": [],
   "source": [
    "# Original Data\n",
    "loan_data = pd.read_csv('C://Users//CT//Documents//data-science-for-good-kiva-crowdfunding//kiva_loans.csv')\n",
    "location_data = pd.read_csv('C://Users//CT//Documents//data-science-for-good-kiva-crowdfunding//kiva_mpi_region_locations.csv')\n",
    "loan_themes  = pd.read_csv('C://Users//CT//Documents//data-science-for-good-kiva-crowdfunding//loan_theme_ids.csv')\n",
    "regional_lts = pd.read_csv('C://Users//CT//Documents//data-science-for-good-kiva-crowdfunding//loan_themes_by_region.csv')"
   ]
  },
  {
   "cell_type": "markdown",
   "metadata": {},
   "source": [
    "### Descriptions of the original datasets\n",
    "\n",
    "There are four data sources provided by Kiva:\n",
    "\n",
    "* *_**loan_data**_*\n",
    "   1. **id** - Unique ID for loan\n",
    "   2. **funded_amount** - The amount disbursed by Kiva to the field agent(USD)\n",
    "   3. **loan_amount** - The amount disbursed by the field agent to the borrower(USD)\n",
    "   4. **activity** - More granular category\n",
    "   5. **sector** - High level category\n",
    "   6. **use** - Exact usage of loan amount\n",
    "   7. **country_code** - ISO country code of country in which loan was disbursed\n",
    "   8. **country** - Full country name of country in which loan was disbursed\n",
    "   9. **region** - Full region name within the country\n",
    "   10. **currency** - The currency in which the loan was disbursed\n",
    "   11. **partner_id** - ID of partner organization\n",
    "   12. **posted_time** - The time at which the loan is posted on Kiva by the field agent\n",
    "   13. **disbursed_time** - The time at which the loan is disbursed by the field agent to the borrower\n",
    "   14. **funded_time** - The time at which the loan posted to Kiva gets funded by lenders completely\n",
    "   15. **term_in_months** - The duration for which the loan was disbursed in months\n",
    "   16. **lender_count** - The total number of lenders that contributed to this loan\n",
    "   17. **tags**\n",
    "   18. **borrower_genders** - Comma separated M,F letters, where each instance represents a single male/female in the group\n",
    "   19. **repayment_interval**\n",
    "   20. **date**\n",
    "####  \n",
    "* *_**location_data**_*\n",
    "   1. **LocationName** - region, country\n",
    "   2. **ISO** - some sort of unique abbreviation for country   \n",
    "   3. **country** - country   \n",
    "   4. **region** - region within country   \n",
    "   5. **world_region** - parts of the world   \n",
    "   6. **MPI** - multidimensional poverty index   \n",
    "   7. **geo** - (latitude, longitude)\n",
    "   8. **lat** - latitude   \n",
    "   9. **lon** - longitude\n",
    "####  \n",
    "* *_**loan_themes**_*\n",
    "   1. **id** - Unique ID for loan (Loan ID)   \n",
    "   2. **Loan Theme ID** - ID for Loan Theme   \n",
    "   3. **Loan Theme Type** - Category name of type of loan   \n",
    "   4. **Partner ID**\n",
    "####  \n",
    "* *_**regional_lts**_*\n",
    "   1. **Partner ID**   \n",
    "   2. **Field Partner Name**\n",
    "   3. **sector**\n",
    "   4. **Loan Theme ID**\n",
    "   5. **Loan Theme Type**  \n",
    "   6. **country**   \n",
    "   7. **forkiva**   \n",
    "   8. **region**\n",
    "   9. **geocode_old**   \n",
    "   10. **ISO**   \n",
    "   11. **number**\n",
    "   12. **amount**\n",
    "   13. **LocationName**\n",
    "   14. **geocode**\n",
    "   15. **names**\n",
    "   16. **geo**\n",
    "   17. **lat**\n",
    "   18. **lon**\n",
    "   19. **mpi_region**\n",
    "   20. **mpi_geo**\n",
    "   21. **rural_pct**"
   ]
  },
  {
   "cell_type": "code",
   "execution_count": null,
   "metadata": {},
   "outputs": [],
   "source": []
  }
 ],
 "metadata": {
  "kernelspec": {
   "display_name": "Python 3",
   "language": "python",
   "name": "python3"
  },
  "language_info": {
   "codemirror_mode": {
    "name": "ipython",
    "version": 3
   },
   "file_extension": ".py",
   "mimetype": "text/x-python",
   "name": "python",
   "nbconvert_exporter": "python",
   "pygments_lexer": "ipython3",
   "version": "3.7.6"
  }
 },
 "nbformat": 4,
 "nbformat_minor": 4
}
