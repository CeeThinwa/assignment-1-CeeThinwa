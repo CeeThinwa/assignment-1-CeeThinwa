{
 "cells": [
  {
   "cell_type": "markdown",
   "metadata": {},
   "source": [
    "# ASSIGNMENT 1 (adapted from https://bit.ly/2J7G9f8)\n",
    "\n",
    "## PROBLEM:\n",
    "\n",
    "### Context\n",
    "\n",
    "Kiva.org is an online crowdfunding platform to extend financial services to poor and financially excluded people around the world. Kiva lenders have provided over $1 billion dollars in loans to over 2 million people.\n",
    "\n",
    "In order to set investment priorities, help inform lenders, and understand their target communities, knowing the level of poverty of each borrower is critical. However, this requires inference based on a limited set of information for each borrower.\n",
    "\n",
    "Submissions in this challenge will take the form of Python data analysis.\n",
    "\n",
    "Kiva has provided a dataset of loans issued over the 2014-2018 time period, and participants are invited to use this data as well as source external public datasets to help Kiva build models for assessing borrower welfare levels. With a stronger understanding of their borrowers and their poverty levels, Kiva will be able to better assess and maximize the impact of their work.\n"
   ]
  },
  {
   "cell_type": "markdown",
   "metadata": {},
   "source": [
    "### Problem statement\n",
    "\n",
    "For the locations in which Kiva has active loans, the objective is to pair Kiva's data with additional data sources to estimate the welfare level of borrowers in specific regions, based on shared economic and demographic characteristics.\n",
    "\n",
    "A good solution would connect the features of each loan or product to one of several poverty mapping datasets, which indicate the average level of welfare in a region on as granular a level as possible. Many datasets indicate the poverty rate in a given area, with varying levels of granularity. Kiva would like to be able to disaggregate these regional averages by gender, sector, or borrowing behavior in order to estimate a Kiva borrower’s level of welfare using all of the relevant information about them. Strong submissions will attempt to map vaguely described locations to more accurate geocodes."
   ]
  },
  {
   "cell_type": "markdown",
   "metadata": {},
   "source": [
    "### Personal disclaimer\n",
    "\n",
    "From a research perspective, the results obtained are never going to be a full representation of the realities that borrowers experience. It is meant to spark a discussion around how we can identify the welfare level of borrowers and improve them where we can."
   ]
  },
  {
   "cell_type": "markdown",
   "metadata": {},
   "source": [
    "## SOLUTION:"
   ]
  },
  {
   "cell_type": "markdown",
   "metadata": {},
   "source": [
    "### Python Packages & Functions"
   ]
  },
  {
   "cell_type": "code",
   "execution_count": 1,
   "metadata": {},
   "outputs": [
    {
     "data": {
      "text/html": [
       "\n",
       "        <script>\n",
       "            function code_toggle_8127191078032554000() {\n",
       "                $('div.cell.code_cell.rendered.selected').find('div.input').toggle();\n",
       "            }\n",
       "\n",
       "            \n",
       "        </script>\n",
       "\n",
       "        <a href=\"javascript:code_toggle_8127191078032554000()\">Toggle show/hide</a>\n",
       "    "
      ],
      "text/plain": [
       "<IPython.core.display.HTML object>"
      ]
     },
     "execution_count": 1,
     "metadata": {},
     "output_type": "execute_result"
    }
   ],
   "source": [
    "from IPython.display import HTML\n",
    "import random\n",
    "\n",
    "def hide_toggle(for_next=False):\n",
    "    this_cell = \"\"\"$('div.cell.code_cell.rendered.selected')\"\"\"\n",
    "    next_cell = this_cell + '.next()'\n",
    "\n",
    "    toggle_text = 'Toggle show/hide'  # text shown on toggle link\n",
    "    target_cell = this_cell  # target cell to control with toggle\n",
    "    js_hide_current = ''  # bit of JS to permanently hide code in current cell (only when toggling next cell)\n",
    "\n",
    "    if for_next:\n",
    "        target_cell = next_cell\n",
    "        toggle_text += ' next cell'\n",
    "        js_hide_current = this_cell + '.find(\"div.input\").hide();'\n",
    "\n",
    "    js_f_name = 'code_toggle_{}'.format(str(random.randint(1,2**64)))\n",
    "\n",
    "    html = \"\"\"\n",
    "        <script>\n",
    "            function {f_name}() {{\n",
    "                {cell_selector}.find('div.input').toggle();\n",
    "            }}\n",
    "\n",
    "            {js_hide_current}\n",
    "        </script>\n",
    "\n",
    "        <a href=\"javascript:{f_name}()\">{toggle_text}</a>\n",
    "    \"\"\".format(\n",
    "        f_name=js_f_name,\n",
    "        cell_selector=target_cell,\n",
    "        js_hide_current=js_hide_current, \n",
    "        toggle_text=toggle_text\n",
    "    )\n",
    "\n",
    "    return HTML(html)\n",
    "\n",
    "hide_toggle()"
   ]
  },
  {
   "cell_type": "code",
   "execution_count": 2,
   "metadata": {},
   "outputs": [
    {
     "data": {
      "text/html": [
       "\n",
       "        <script>\n",
       "            function code_toggle_15360930864851773462() {\n",
       "                $('div.cell.code_cell.rendered.selected').find('div.input').toggle();\n",
       "            }\n",
       "\n",
       "            \n",
       "        </script>\n",
       "\n",
       "        <a href=\"javascript:code_toggle_15360930864851773462()\">Toggle show/hide</a>\n",
       "    "
      ],
      "text/plain": [
       "<IPython.core.display.HTML object>"
      ]
     },
     "execution_count": 2,
     "metadata": {},
     "output_type": "execute_result"
    }
   ],
   "source": [
    "# Packages\n",
    "import numpy as np\n",
    "import pandas as pd\n",
    "\n",
    "import matplotlib.pyplot as plt\n",
    "import matplotlib.dates as mdates\n",
    "\n",
    "import re\n",
    "\n",
    "hide_toggle()"
   ]
  },
  {
   "cell_type": "markdown",
   "metadata": {},
   "source": [
    "### Data\n",
    "*Here we upload all the Python packages and datasets required for analysis*"
   ]
  },
  {
   "cell_type": "markdown",
   "metadata": {},
   "source": [
    "#### 1. Original Data"
   ]
  },
  {
   "cell_type": "code",
   "execution_count": 3,
   "metadata": {},
   "outputs": [
    {
     "name": "stdout",
     "output_type": "stream",
     "text": [
      "loan_data shape: (671205, 20)\n",
      "id                      int64\n",
      "funded_amount         float64\n",
      "loan_amount           float64\n",
      "activity               object\n",
      "sector                 object\n",
      "use                    object\n",
      "country_code           object\n",
      "country                object\n",
      "region                 object\n",
      "currency               object\n",
      "partner_id            float64\n",
      "posted_time            object\n",
      "disbursed_time         object\n",
      "funded_time            object\n",
      "term_in_months        float64\n",
      "lender_count            int64\n",
      "tags                   object\n",
      "borrower_genders       object\n",
      "repayment_interval     object\n",
      "date                   object\n",
      "dtype: object\n",
      "\n",
      "location_data shape: (2772, 9)\n",
      "LocationName     object\n",
      "ISO              object\n",
      "country          object\n",
      "region           object\n",
      "world_region     object\n",
      "MPI             float64\n",
      "geo              object\n",
      "lat             float64\n",
      "lon             float64\n",
      "dtype: object\n",
      "\n",
      "loan_themes shape: (779092, 4)\n",
      "id                   int64\n",
      "Loan Theme ID       object\n",
      "Loan Theme Type     object\n",
      "Partner ID         float64\n",
      "dtype: object\n",
      "\n",
      "regional_lts shape: (15736, 21)\n",
      "Partner ID              int64\n",
      "Field Partner Name     object\n",
      "sector                 object\n",
      "Loan Theme ID          object\n",
      "Loan Theme Type        object\n",
      "country                object\n",
      "forkiva                object\n",
      "region                 object\n",
      "geocode_old            object\n",
      "ISO                    object\n",
      "number                  int64\n",
      "amount                  int64\n",
      "LocationName           object\n",
      "geocode                object\n",
      "names                  object\n",
      "geo                    object\n",
      "lat                   float64\n",
      "lon                   float64\n",
      "mpi_region             object\n",
      "mpi_geo                object\n",
      "rural_pct             float64\n",
      "dtype: object\n"
     ]
    },
    {
     "data": {
      "text/html": [
       "\n",
       "        <script>\n",
       "            function code_toggle_12765318381590668128() {\n",
       "                $('div.cell.code_cell.rendered.selected').find('div.input').toggle();\n",
       "            }\n",
       "\n",
       "            \n",
       "        </script>\n",
       "\n",
       "        <a href=\"javascript:code_toggle_12765318381590668128()\">Toggle show/hide</a>\n",
       "    "
      ],
      "text/plain": [
       "<IPython.core.display.HTML object>"
      ]
     },
     "execution_count": 3,
     "metadata": {},
     "output_type": "execute_result"
    }
   ],
   "source": [
    "# Original Data\n",
    "loan_data = pd.read_csv('C://Users//CT//Documents//data-science-for-good-kiva-crowdfunding//kiva_loans.csv')\n",
    "location_data = pd.read_csv('C://Users//CT//Documents//data-science-for-good-kiva-crowdfunding//kiva_mpi_region_locations.csv')\n",
    "loan_themes  = pd.read_csv('C://Users//CT//Documents//data-science-for-good-kiva-crowdfunding//loan_theme_ids.csv')\n",
    "regional_lts = pd.read_csv('C://Users//CT//Documents//data-science-for-good-kiva-crowdfunding//loan_themes_by_region.csv')\n",
    "\n",
    "print('loan_data shape:',loan_data.shape)\n",
    "print(loan_data.dtypes)\n",
    "print('')\n",
    "print('location_data shape:',location_data.shape)\n",
    "print(location_data.dtypes)\n",
    "print('')\n",
    "print('loan_themes shape:',loan_themes.shape)\n",
    "print(loan_themes.dtypes)\n",
    "print('')\n",
    "print('regional_lts shape:',regional_lts.shape)\n",
    "print(regional_lts.dtypes)\n",
    "\n",
    "hide_toggle()"
   ]
  },
  {
   "cell_type": "markdown",
   "metadata": {},
   "source": [
    "##### Descriptions of the original datasets\n",
    "\n",
    "There are four data sources provided by Kiva:\n",
    "\n",
    "* ***loan_data***\n",
    "   1. **id** - Unique ID for loan\n",
    "   2. **funded_amount** - The amount disbursed by Kiva to the field agent(USD)\n",
    "   3. **loan_amount** - The amount disbursed by the field agent to the borrower(USD)\n",
    "   4. **activity** - More granular category\n",
    "   5. **sector** - High level category\n",
    "   6. **use** - Exact usage of loan amount\n",
    "   7. **country_code** - ISO country code of country in which loan was disbursed\n",
    "   8. **country** - Full country name of country in which loan was disbursed\n",
    "   9. **region** - Full region name within the country\n",
    "   10. **currency** - The currency in which the loan was disbursed\n",
    "   11. **partner_id** - ID of partner organization\n",
    "   12. **posted_time** - The time at which the loan is posted on Kiva by the field agent\n",
    "   13. **disbursed_time** - The time at which the loan is disbursed by the field agent to the borrower\n",
    "   14. **funded_time** - The time at which the loan posted to Kiva gets funded by lenders completely\n",
    "   15. **term_in_months** - The duration for which the loan was disbursed in months\n",
    "   16. **lender_count** - The total number of lenders that contributed to this loan\n",
    "   17. **tags**\n",
    "   18. **borrower_genders** - Comma separated M,F letters, where each instance represents a single male/female in the group\n",
    "   19. **repayment_interval**\n",
    "   20. **date**\n",
    "   \n",
    "####  \n",
    "\n",
    "* ***location_data***\n",
    "   1. **LocationName** - region, country\n",
    "   2. **ISO** - some sort of unique abbreviation for country   \n",
    "   3. **country** - country   \n",
    "   4. **region** - region within country   \n",
    "   5. **world_region** - parts of the world   \n",
    "   6. **MPI** - multidimensional poverty index   \n",
    "   7. **geo** - (latitude, longitude)\n",
    "   8. **lat** - latitude   \n",
    "   9. **lon** - longitude\n",
    "   \n",
    "####  \n",
    "\n",
    "* ***loan_themes***\n",
    "   1. **id** - Unique ID for loan (Loan ID)   \n",
    "   2. **Loan Theme ID** - ID for Loan Theme   \n",
    "   3. **Loan Theme Type** - Category name of type of loan   \n",
    "   4. **Partner ID**\n",
    "   \n",
    "####  \n",
    "\n",
    "* ***regional_lts***\n",
    "   1. **Partner ID**   \n",
    "   2. **Field Partner Name**\n",
    "   3. **sector**\n",
    "   4. **Loan Theme ID**\n",
    "   5. **Loan Theme Type**  \n",
    "   6. **country**   \n",
    "   7. **forkiva**   \n",
    "   8. **region**\n",
    "   9. **geocode_old**   \n",
    "   10. **ISO**   \n",
    "   11. **number**\n",
    "   12. **amount**\n",
    "   13. **LocationName**\n",
    "   14. **geocode**\n",
    "   15. **names**\n",
    "   16. **geo**\n",
    "   17. **lat**\n",
    "   18. **lon**\n",
    "   19. **mpi_region**\n",
    "   20. **mpi_geo**\n",
    "   21. **rural_pct**"
   ]
  },
  {
   "cell_type": "markdown",
   "metadata": {},
   "source": [
    "#### 2. Supplementary Data\n",
    "\n",
    "In this section, we aim to gather the following data from the World Bank:\n",
    "\n",
    "1. [Per Capita Expenditure (PCE)](https://www.quora.com/What-does-per-capita-expenditure-mean?share=1) for each country - *this is the total market value of all purchases in a country divided by that country's total population* (data: https://bit.ly/3blw0be)\n",
    "2. [Multidimensional poverty headcount ratio](https://duckduckgo.com/?t=ffab&q=headcount+ratio+meaning&ia=web) - *this is the proportion of a country's population that lives, below the poverty line.* (data: https://bit.ly/2VfM2hi)\n",
    "3. [GDP per capita (2011 PPP)](http://hdr.undp.org/en/content/gdp-per-capita-2011-ppp) for each country - *this is the sum of gross value added by all resident producers in the economy plus any product taxes and minus any subsidies not included in the value of the products, expressed in international dollars using purchasing power parity rates and divided by total population of the same period.*"
   ]
  },
  {
   "cell_type": "code",
   "execution_count": 4,
   "metadata": {},
   "outputs": [
    {
     "name": "stdout",
     "output_type": "stream",
     "text": [
      "PCE_data shape: (185, 61)\n",
      "Unnamed: 0      object\n",
      "1960            object\n",
      "1961            object\n",
      "1962            object\n",
      "1963            object\n",
      "                ...   \n",
      "2015           float64\n",
      "2016           float64\n",
      "2017           float64\n",
      "2018           float64\n",
      "Unnamed: 60    float64\n",
      "Length: 61, dtype: object\n",
      "\n",
      "db_data shape: (560, 50)\n",
      "Series Name      object\n",
      "Series Code      object\n",
      "Country Name     object\n",
      "Country Code     object\n",
      "1974 [YR1974]    object\n",
      "1975 [YR1975]    object\n",
      "1976 [YR1976]    object\n",
      "1977 [YR1977]    object\n",
      "1978 [YR1978]    object\n",
      "1979 [YR1979]    object\n",
      "1980 [YR1980]    object\n",
      "1981 [YR1981]    object\n",
      "1982 [YR1982]    object\n",
      "1983 [YR1983]    object\n",
      "1984 [YR1984]    object\n",
      "1985 [YR1985]    object\n",
      "1986 [YR1986]    object\n",
      "1987 [YR1987]    object\n",
      "1988 [YR1988]    object\n",
      "1989 [YR1989]    object\n",
      "1990 [YR1990]    object\n",
      "1991 [YR1991]    object\n",
      "1992 [YR1992]    object\n",
      "1993 [YR1993]    object\n",
      "1994 [YR1994]    object\n",
      "1995 [YR1995]    object\n",
      "1996 [YR1996]    object\n",
      "1997 [YR1997]    object\n",
      "1998 [YR1998]    object\n",
      "1999 [YR1999]    object\n",
      "2000 [YR2000]    object\n",
      "2001 [YR2001]    object\n",
      "2002 [YR2002]    object\n",
      "2003 [YR2003]    object\n",
      "2004 [YR2004]    object\n",
      "2005 [YR2005]    object\n",
      "2006 [YR2006]    object\n",
      "2007 [YR2007]    object\n",
      "2008 [YR2008]    object\n",
      "2009 [YR2009]    object\n",
      "2010 [YR2010]    object\n",
      "2011 [YR2011]    object\n",
      "2012 [YR2012]    object\n",
      "2013 [YR2013]    object\n",
      "2014 [YR2014]    object\n",
      "2015 [YR2015]    object\n",
      "2016 [YR2016]    object\n",
      "2017 [YR2017]    object\n",
      "2018 [YR2018]    object\n",
      "2019 [YR2019]    object\n",
      "dtype: object\n",
      "['Poverty headcount ratio at $1.90 a day (2011 PPP) (% of population)'\n",
      " 'Poverty headcount ratio at national poverty lines (% of population)'\n",
      " 'Survey mean consumption or income per capita, total population (2011 PPP $ per day)'\n",
      " nan 'Data from database: Poverty and Equity' 'Last Updated: 03/18/2020']\n"
     ]
    },
    {
     "data": {
      "text/html": [
       "\n",
       "        <script>\n",
       "            function code_toggle_14295565084598702927() {\n",
       "                $('div.cell.code_cell.rendered.selected').find('div.input').toggle();\n",
       "            }\n",
       "\n",
       "            \n",
       "        </script>\n",
       "\n",
       "        <a href=\"javascript:code_toggle_14295565084598702927()\">Toggle show/hide</a>\n",
       "    "
      ],
      "text/plain": [
       "<IPython.core.display.HTML object>"
      ]
     },
     "execution_count": 4,
     "metadata": {},
     "output_type": "execute_result"
    }
   ],
   "source": [
    "# Per Capita Expenditure\n",
    "PCE_data = pd.read_html('C://Users//CT//Documents//data-science-for-good-kiva-crowdfunding//PCE data.html')\n",
    "PCE_data = PCE_data[0]\n",
    "PCE_data = pd.DataFrame(PCE_data)\n",
    "\n",
    "# World Bank Gross data\n",
    "db_data = pd.read_csv('C://Users//CT//Documents//data-science-for-good-kiva-crowdfunding//Data_Extract_From_Poverty_and_Equity//806b9aec-08c0-45f0-8acc-e02a84ec7c9c_Data.csv')\n",
    "\n",
    "print('PCE_data shape:',PCE_data.shape)\n",
    "print(PCE_data.dtypes)\n",
    "print('')\n",
    "print('db_data shape:',db_data.shape)\n",
    "print(db_data.dtypes)\n",
    "print(db_data.iloc[:,0].unique())\n",
    "\n",
    "hide_toggle()"
   ]
  },
  {
   "cell_type": "markdown",
   "metadata": {},
   "source": [
    "### Exploratory Data Analysis\n",
    "\n",
    "#### The impact of KIVA donors\n",
    "\n",
    "In this section, we seek to explore the data to answer certain questions around KIVA donor contributions\n",
    "\n",
    "##### 1. How much of the total loan amount has Kiva financed?"
   ]
  },
  {
   "cell_type": "code",
   "execution_count": 5,
   "metadata": {},
   "outputs": [
    {
     "name": "stdout",
     "output_type": "stream",
     "text": [
      "Kiva has financed 93.3% of its borrowers' loans\n"
     ]
    },
    {
     "data": {
      "text/html": [
       "\n",
       "        <script>\n",
       "            function code_toggle_3183947118693167862() {\n",
       "                $('div.cell.code_cell.rendered.selected').find('div.input').toggle();\n",
       "            }\n",
       "\n",
       "            \n",
       "        </script>\n",
       "\n",
       "        <a href=\"javascript:code_toggle_3183947118693167862()\">Toggle show/hide</a>\n",
       "    "
      ],
      "text/plain": [
       "<IPython.core.display.HTML object>"
      ]
     },
     "execution_count": 5,
     "metadata": {},
     "output_type": "execute_result"
    }
   ],
   "source": [
    "# calculate the percentage of loan requests that have been funded\n",
    "percentage1 = (loan_data.funded_amount.sum()/loan_data.loan_amount.sum())*100\n",
    "percentage1 = round(percentage1, 2)\n",
    "\n",
    "# display the result\n",
    "print('Kiva has financed '+str(percentage1)+\"% of its borrowers' loans\")\n",
    "\n",
    "hide_toggle()"
   ]
  },
  {
   "cell_type": "markdown",
   "metadata": {},
   "source": [
    "##### 2. How much money have Kiva donors contributed over time?"
   ]
  },
  {
   "cell_type": "code",
   "execution_count": 6,
   "metadata": {},
   "outputs": [
    {
     "data": {
      "text/html": [
       "\n",
       "        <script>\n",
       "            function code_toggle_11305312704677702213() {\n",
       "                $('div.cell.code_cell.rendered.selected').find('div.input').toggle();\n",
       "            }\n",
       "\n",
       "            \n",
       "        </script>\n",
       "\n",
       "        <a href=\"javascript:code_toggle_11305312704677702213()\">Toggle show/hide</a>\n",
       "    "
      ],
      "text/plain": [
       "<IPython.core.display.HTML object>"
      ]
     },
     "execution_count": 6,
     "metadata": {},
     "output_type": "execute_result"
    }
   ],
   "source": [
    "# convert datetime values to appropriate formats\n",
    "loan_data['posted_time'] = loan_data['posted_time'].astype('datetime64')\n",
    "loan_data['disbursed_time'] = loan_data['disbursed_time'].astype('datetime64')\n",
    "loan_data['funded_time'] = loan_data['funded_time'].astype('datetime64')\n",
    "\n",
    "# pick out dates\n",
    "loan_data.loc[:,'disbursement_date'] = loan_data['disbursed_time'].dt.date\n",
    "loan_data['disbursement_date'] = loan_data['disbursement_date']\n",
    "\n",
    "hide_toggle()"
   ]
  },
  {
   "cell_type": "code",
   "execution_count": 7,
   "metadata": {},
   "outputs": [
    {
     "data": {
      "image/png": "[encoded data removed]",
      "text/plain": [
       "<Figure size 432x288 with 1 Axes>"
      ]
     },
     "metadata": {
      "needs_background": "light"
     },
     "output_type": "display_data"
    },
    {
     "data": {
      "text/html": [
       "\n",
       "        <script>\n",
       "            function code_toggle_7552756155749260912() {\n",
       "                $('div.cell.code_cell.rendered.selected').find('div.input').toggle();\n",
       "            }\n",
       "\n",
       "            \n",
       "        </script>\n",
       "\n",
       "        <a href=\"javascript:code_toggle_7552756155749260912()\">Toggle show/hide</a>\n",
       "    "
      ],
      "text/plain": [
       "<IPython.core.display.HTML object>"
      ]
     },
     "execution_count": 7,
     "metadata": {},
     "output_type": "execute_result"
    }
   ],
   "source": [
    "#convert the disbursement timestamp to datetime\n",
    "loan_data['disbursed_time'] = pd.to_datetime(loan_data['disbursed_time'])\n",
    "loan_data.loc[:,'disbursement_date'] = loan_data['disbursed_time'].dt.date\n",
    "\n",
    "# create a pivot-table\n",
    "tab1 = pd.pivot_table(loan_data, values='funded_amount', index=['disbursement_date'], aggfunc='sum')\n",
    "\n",
    "# plot this table\n",
    "from pandas.plotting import register_matplotlib_converters\n",
    "register_matplotlib_converters()\n",
    "\n",
    "fig, ax = plt.subplots()\n",
    "ax.plot(tab1.index, tab1['funded_amount'])\n",
    "\n",
    "# rotate and align the tick labels so they look better\n",
    "fig.autofmt_xdate()\n",
    "\n",
    "# declare the title and show the completed graph\n",
    "ax.set_title('Total funds contributed over time (USD)')\n",
    "plt.show()\n",
    "\n",
    "hide_toggle()"
   ]
  },
  {
   "cell_type": "code",
   "execution_count": 8,
   "metadata": {},
   "outputs": [
    {
     "data": {
      "text/html": [
       "<div>\n",
       "<style scoped>\n",
       "    .dataframe tbody tr th:only-of-type {\n",
       "        vertical-align: middle;\n",
       "    }\n",
       "\n",
       "    .dataframe tbody tr th {\n",
       "        vertical-align: top;\n",
       "    }\n",
       "\n",
       "    .dataframe thead th {\n",
       "        text-align: right;\n",
       "    }\n",
       "</style>\n",
       "<table border=\"1\" class=\"dataframe\">\n",
       "  <thead>\n",
       "    <tr style=\"text-align: right;\">\n",
       "      <th></th>\n",
       "      <th>funded_amount</th>\n",
       "    </tr>\n",
       "  </thead>\n",
       "  <tbody>\n",
       "    <tr>\n",
       "      <th>count</th>\n",
       "      <td>1.364000e+03</td>\n",
       "    </tr>\n",
       "    <tr>\n",
       "      <th>mean</th>\n",
       "      <td>3.855914e+05</td>\n",
       "    </tr>\n",
       "    <tr>\n",
       "      <th>std</th>\n",
       "      <td>2.651232e+05</td>\n",
       "    </tr>\n",
       "    <tr>\n",
       "      <th>min</th>\n",
       "      <td>2.500000e+01</td>\n",
       "    </tr>\n",
       "    <tr>\n",
       "      <th>25%</th>\n",
       "      <td>1.035125e+05</td>\n",
       "    </tr>\n",
       "    <tr>\n",
       "      <th>50%</th>\n",
       "      <td>4.285625e+05</td>\n",
       "    </tr>\n",
       "    <tr>\n",
       "      <th>75%</th>\n",
       "      <td>5.965188e+05</td>\n",
       "    </tr>\n",
       "    <tr>\n",
       "      <th>max</th>\n",
       "      <td>1.830375e+06</td>\n",
       "    </tr>\n",
       "  </tbody>\n",
       "</table>\n",
       "</div>"
      ],
      "text/plain": [
       "       funded_amount\n",
       "count   1.364000e+03\n",
       "mean    3.855914e+05\n",
       "std     2.651232e+05\n",
       "min     2.500000e+01\n",
       "25%     1.035125e+05\n",
       "50%     4.285625e+05\n",
       "75%     5.965188e+05\n",
       "max     1.830375e+06"
      ]
     },
     "execution_count": 8,
     "metadata": {},
     "output_type": "execute_result"
    }
   ],
   "source": [
    "tab1.describe()"
   ]
  },
  {
   "cell_type": "markdown",
   "metadata": {},
   "source": [
    "##### 3. How much money have Kiva donors given to individual loans?"
   ]
  },
  {
   "cell_type": "code",
   "execution_count": 33,
   "metadata": {},
   "outputs": [
    {
     "data": {
      "image/png": "[encoded data removed]",
      "text/plain": [
       "<Figure size 432x288 with 1 Axes>"
      ]
     },
     "metadata": {
      "needs_background": "light"
     },
     "output_type": "display_data"
    },
    {
     "data": {
      "text/html": [
       "\n",
       "        <script>\n",
       "            function code_toggle_15295603205794417357() {\n",
       "                $('div.cell.code_cell.rendered.selected').find('div.input').toggle();\n",
       "            }\n",
       "\n",
       "            \n",
       "        </script>\n",
       "\n",
       "        <a href=\"javascript:code_toggle_15295603205794417357()\">Toggle show/hide</a>\n",
       "    "
      ],
      "text/plain": [
       "<IPython.core.display.HTML object>"
      ]
     },
     "execution_count": 33,
     "metadata": {},
     "output_type": "execute_result"
    }
   ],
   "source": [
    "# create a pivot-table\n",
    "loan_count_per_funded_amount = pd.pivot_table(loan_data, values='id', index=['funded_amount'], aggfunc='count')\n",
    "\n",
    "# rename the column\n",
    "loan_count_per_funded_amount.columns = ['number_of_loans']\n",
    "\n",
    "# sort the results in descending order\n",
    "loan_count_per_funded_amount = loan_count_per_funded_amount.sort_values(by=['number_of_loans'], ascending=False)\n",
    "\n",
    "# and display top 10 results\n",
    "amounts = ['225','300','200','500','250','125','400','350','325','275']\n",
    "fig, ax = plt.subplots()\n",
    "ax.bar(amounts,loan_count_per_funded_amount.iloc[0:10,0],color='blue')\n",
    "plt.ylabel('Number of loans')\n",
    "ax.set_xticklabels(labels=amounts, rotation = (90), fontsize = 10, va='top', ha='left')\n",
    "plt.xlabel('Top 10 fund amounts given to each loan (in USD)')\n",
    "plt.title('THE LARGEST NUMBER OF LOANS FOR EACH KIVA DONATION')\n",
    "plt.show()\n",
    "\n",
    "hide_toggle() "
   ]
  },
  {
   "cell_type": "markdown",
   "metadata": {},
   "source": [
    "##### 4. How much money have Kiva donors given to individual countries?"
   ]
  },
  {
   "cell_type": "code",
   "execution_count": 10,
   "metadata": {},
   "outputs": [
    {
     "data": {
      "image/png": "[encoded data removed]",
      "text/plain": [
       "<Figure size 432x288 with 1 Axes>"
      ]
     },
     "metadata": {
      "needs_background": "light"
     },
     "output_type": "display_data"
    },
    {
     "data": {
      "text/html": [
       "\n",
       "        <script>\n",
       "            function code_toggle_17463019209386998953() {\n",
       "                $('div.cell.code_cell.rendered.selected').find('div.input').toggle();\n",
       "            }\n",
       "\n",
       "            \n",
       "        </script>\n",
       "\n",
       "        <a href=\"javascript:code_toggle_17463019209386998953()\">Toggle show/hide</a>\n",
       "    "
      ],
      "text/plain": [
       "<IPython.core.display.HTML object>"
      ]
     },
     "execution_count": 10,
     "metadata": {},
     "output_type": "execute_result"
    }
   ],
   "source": [
    "# create a pivot-table\n",
    "tab2 = pd.pivot_table(loan_data, values='funded_amount', index=['country'], aggfunc='sum')\n",
    "\n",
    "# sort the results in descending order\n",
    "tab2 = tab2.sort_values(by=['funded_amount'], ascending=False)\n",
    "\n",
    "# rename the aggregated column to an appropiate label\n",
    "tab2.columns = ['sum_of_funded_amount']\n",
    "\n",
    "# make some index entries into columns\n",
    "tab2 = tab2.reset_index(level=['country'])\n",
    "\n",
    "# and display top 10 results\n",
    "fig, ax = plt.subplots()\n",
    "ax.bar(tab2.iloc[0:10,0],(tab2.iloc[0:10,1]/1000000),color='purple')\n",
    "plt.ylabel('Funding in million USD')\n",
    "ax.set_xticklabels(labels=tab2.iloc[0:10,0], rotation = (90), fontsize = 10, va='top', ha='left')\n",
    "plt.xlabel('Top 10 countries')\n",
    "plt.title('COUNTRIES THAT RECEIVED THE MOST IN KIVA FUNDING')\n",
    "plt.show()\n",
    "\n",
    "hide_toggle()"
   ]
  },
  {
   "cell_type": "code",
   "execution_count": 11,
   "metadata": {},
   "outputs": [
    {
     "data": {
      "image/png": "[encoded data removed]",
      "text/plain": [
       "<Figure size 432x288 with 1 Axes>"
      ]
     },
     "metadata": {
      "needs_background": "light"
     },
     "output_type": "display_data"
    },
    {
     "data": {
      "text/html": [
       "\n",
       "        <script>\n",
       "            function code_toggle_7101598678773657341() {\n",
       "                $('div.cell.code_cell.rendered.selected').find('div.input').toggle();\n",
       "            }\n",
       "\n",
       "            \n",
       "        </script>\n",
       "\n",
       "        <a href=\"javascript:code_toggle_7101598678773657341()\">Toggle show/hide</a>\n",
       "    "
      ],
      "text/plain": [
       "<IPython.core.display.HTML object>"
      ]
     },
     "execution_count": 11,
     "metadata": {},
     "output_type": "execute_result"
    }
   ],
   "source": [
    "# create a pivot-table\n",
    "loans_per_country = pd.pivot_table(loan_data, values='id', index=['country'], aggfunc='count')\n",
    "\n",
    "# sort the results in descending order\n",
    "loans_per_country = loans_per_country.sort_values(by=['id'], ascending=False)\n",
    "\n",
    "# rename the aggregated column to an appropiate label\n",
    "loans_per_country.columns = ['number_of_loans']\n",
    "\n",
    "# make some index entries into columns\n",
    "loans_per_country = loans_per_country.reset_index(level=['country'])\n",
    "\n",
    "# and display top 10 results\n",
    "loans_per_country.head(10)\n",
    "\n",
    "\n",
    "# and display top 10 results\n",
    "fig, ax = plt.subplots()\n",
    "ax.bar(loans_per_country.iloc[0:10,0],(loans_per_country.iloc[0:10,1]/1000000),color='purple')\n",
    "plt.ylabel('Number of loans')\n",
    "ax.set_xticklabels(labels=tab2.iloc[0:10,0], rotation = (90), fontsize = 10, va='top', ha='left')\n",
    "plt.xlabel('Top 10 countries')\n",
    "plt.title('COUNTRIES THAT HAD THE HIGHEST NUMBER OF LOANS ON KIVA')\n",
    "plt.show()\n",
    "\n",
    "hide_toggle()"
   ]
  },
  {
   "cell_type": "code",
   "execution_count": 12,
   "metadata": {},
   "outputs": [
    {
     "name": "stdout",
     "output_type": "stream",
     "text": [
      "The shape of tab2 before merge:  (87, 2)\n",
      "The shape of tab2 after merge:  (87, 3)\n"
     ]
    },
    {
     "data": {
      "text/html": [
       "\n",
       "        <script>\n",
       "            function code_toggle_6460196769333510281() {\n",
       "                $('div.cell.code_cell.rendered.selected').find('div.input').toggle();\n",
       "            }\n",
       "\n",
       "            \n",
       "        </script>\n",
       "\n",
       "        <a href=\"javascript:code_toggle_6460196769333510281()\">Toggle show/hide</a>\n",
       "    "
      ],
      "text/plain": [
       "<IPython.core.display.HTML object>"
      ]
     },
     "execution_count": 12,
     "metadata": {},
     "output_type": "execute_result"
    }
   ],
   "source": [
    "# initial status message\n",
    "print('The shape of tab2 before merge: ', tab2.shape)\n",
    "\n",
    "# join the data, keeping only relevant entries\n",
    "tab2 = tab2.merge(loans_per_country, on='country')\n",
    "\n",
    "# final status message\n",
    "print('The shape of tab2 after merge: ', tab2.shape)\n",
    "\n",
    "hide_toggle() "
   ]
  },
  {
   "cell_type": "markdown",
   "metadata": {},
   "source": [
    "Countries that had the highest contribution per loan were:"
   ]
  },
  {
   "cell_type": "code",
   "execution_count": 13,
   "metadata": {},
   "outputs": [
    {
     "data": {
      "image/png": "[encoded data removed]",
      "text/plain": [
       "<Figure size 432x288 with 1 Axes>"
      ]
     },
     "metadata": {
      "needs_background": "light"
     },
     "output_type": "display_data"
    },
    {
     "data": {
      "text/html": [
       "\n",
       "        <script>\n",
       "            function code_toggle_5749177536424495001() {\n",
       "                $('div.cell.code_cell.rendered.selected').find('div.input').toggle();\n",
       "            }\n",
       "\n",
       "            \n",
       "        </script>\n",
       "\n",
       "        <a href=\"javascript:code_toggle_5749177536424495001()\">Toggle show/hide</a>\n",
       "    "
      ],
      "text/plain": [
       "<IPython.core.display.HTML object>"
      ]
     },
     "execution_count": 13,
     "metadata": {},
     "output_type": "execute_result"
    }
   ],
   "source": [
    "# add a calculated column to the newly merged tab2\n",
    "tab2.loc[:, 'contribution_per_loan'] = tab2['sum_of_funded_amount']/tab2['number_of_loans']\n",
    "\n",
    "# sort the results in descending order\n",
    "tab2 = tab2.sort_values(by=['contribution_per_loan'], ascending=False)\n",
    "\n",
    "# and display top 10 results\n",
    "fig, ax = plt.subplots()\n",
    "ax.bar(tab2.iloc[0:10,0], round(tab2.iloc[0:10,3], 2), color='purple')\n",
    "plt.ylabel('Kiva donor contribution per loan')\n",
    "ax.set_xticklabels(labels=tab2.iloc[0:10,0], rotation = (90), fontsize = 10, va='top', ha='left')\n",
    "plt.xlabel('Top 10 countries')\n",
    "plt.title('COUNTRIES THAT HAD THE HIGHEST CONTRIBUTION PER LOAN ON KIVA')\n",
    "plt.show()\n",
    "\n",
    "hide_toggle()"
   ]
  },
  {
   "cell_type": "markdown",
   "metadata": {},
   "source": [
    "Countries that had the lowest contribution per loan were:"
   ]
  },
  {
   "cell_type": "code",
   "execution_count": 14,
   "metadata": {},
   "outputs": [
    {
     "data": {
      "image/png": "[encoded data removed]",
      "text/plain": [
       "<Figure size 432x288 with 1 Axes>"
      ]
     },
     "metadata": {
      "needs_background": "light"
     },
     "output_type": "display_data"
    },
    {
     "data": {
      "text/html": [
       "\n",
       "        <script>\n",
       "            function code_toggle_2669980315943663578() {\n",
       "                $('div.cell.code_cell.rendered.selected').find('div.input').toggle();\n",
       "            }\n",
       "\n",
       "            \n",
       "        </script>\n",
       "\n",
       "        <a href=\"javascript:code_toggle_2669980315943663578()\">Toggle show/hide</a>\n",
       "    "
      ],
      "text/plain": [
       "<IPython.core.display.HTML object>"
      ]
     },
     "execution_count": 14,
     "metadata": {},
     "output_type": "execute_result"
    }
   ],
   "source": [
    "# add a calculated column to the newly merged tab2\n",
    "tab2.loc[:, 'contribution_per_loan'] = tab2['sum_of_funded_amount']/tab2['number_of_loans']\n",
    "\n",
    "# sort the results in descending order\n",
    "tab2 = tab2.sort_values(by=['contribution_per_loan'], ascending=True)\n",
    "\n",
    "# and display top 10 results\n",
    "fig, ax = plt.subplots()\n",
    "ax.bar(tab2.iloc[0:10,0], round(tab2.iloc[0:10,3], 2), color='purple')\n",
    "plt.ylabel('Kiva donor contribution per loan')\n",
    "ax.set_xticklabels(labels=tab2.iloc[0:10,0], rotation = (90), fontsize = 10, va='top', ha='left')\n",
    "plt.xlabel('Bottom 10 countries')\n",
    "plt.title('COUNTRIES THAT HAD THE LOWEST CONTRIBUTION PER LOAN ON KIVA')\n",
    "plt.show()\n",
    "\n",
    "hide_toggle()"
   ]
  },
  {
   "cell_type": "markdown",
   "metadata": {},
   "source": [
    "##### 5. What is the geographical footprint of where funds given by KIVA donors end up?"
   ]
  },
  {
   "cell_type": "code",
   "execution_count": 15,
   "metadata": {},
   "outputs": [
    {
     "name": "stdout",
     "output_type": "stream",
     "text": [
      "partner_id\n",
      "\n",
      "Partner ID\n",
      "partner_id\n"
     ]
    },
    {
     "data": {
      "text/html": [
       "\n",
       "        <script>\n",
       "            function code_toggle_17701367636261076422() {\n",
       "                $('div.cell.code_cell.rendered.selected').find('div.input').toggle();\n",
       "            }\n",
       "\n",
       "            \n",
       "        </script>\n",
       "\n",
       "        <a href=\"javascript:code_toggle_17701367636261076422()\">Toggle show/hide</a>\n",
       "    "
      ],
      "text/plain": [
       "<IPython.core.display.HTML object>"
      ]
     },
     "execution_count": 15,
     "metadata": {},
     "output_type": "execute_result"
    }
   ],
   "source": [
    "# make a copy of the loan_data dataset and combine it with partner data\n",
    "loan_data_copy = loan_data.copy()\n",
    "\n",
    "# ensure that the common column is the same datatype and they share the same name\n",
    "# the datatype chosen was float64 to preserve any decimal points\n",
    "print(loan_data_copy.iloc[:,10].name) # original name; stays the same\n",
    "print('')\n",
    "\n",
    "print(regional_lts.iloc[:,0].name) #original name - will be changed\n",
    "#change column name\n",
    "regional_lts.columns = ['partner_id', 'Field Partner Name', 'sector',\n",
    "                        'Loan Theme ID', 'Loan Theme Type', 'country',\n",
    "                        'forkiva', 'region', 'geocode_old',\n",
    "                        'ISO', 'number', 'amount',\n",
    "                        'LocationName', 'geocode', 'names',\n",
    "                        'geo', 'lat', 'lon',\n",
    "                        'mpi_region', 'mpi_geo', 'rural_pct']\n",
    "# confirm change\n",
    "print(regional_lts.iloc[:,0].name)\n",
    "\n",
    "# change the datatype\n",
    "regional_lts.iloc[:,0] = regional_lts.iloc[:,0].astype('float64')\n",
    "\n",
    "hide_toggle()"
   ]
  },
  {
   "cell_type": "code",
   "execution_count": 16,
   "metadata": {},
   "outputs": [
    {
     "data": {
      "text/html": [
       "\n",
       "        <script>\n",
       "            function code_toggle_16060645522520831634() {\n",
       "                $('div.cell.code_cell.rendered.selected').find('div.input').toggle();\n",
       "            }\n",
       "\n",
       "            \n",
       "        </script>\n",
       "\n",
       "        <a href=\"javascript:code_toggle_16060645522520831634()\">Toggle show/hide</a>\n",
       "    "
      ],
      "text/plain": [
       "<IPython.core.display.HTML object>"
      ]
     },
     "execution_count": 16,
     "metadata": {},
     "output_type": "execute_result"
    }
   ],
   "source": [
    "# create a pivot-table\n",
    "tab3 = pd.pivot_table(loan_data_copy, values='funded_amount', index=['partner_id'], aggfunc='sum')\n",
    "\n",
    "# sort the results in descending order\n",
    "tab3 = tab3.sort_values(by=['funded_amount'], ascending=False)\n",
    "\n",
    "# rename the aggregated column to an appropiate label\n",
    "tab3.columns = ['sum_of_funded_amount']\n",
    "\n",
    "# make some index entries into columns\n",
    "tab3 = tab3.reset_index(level=['partner_id'])\n",
    "\n",
    "hide_toggle()"
   ]
  },
  {
   "cell_type": "code",
   "execution_count": 17,
   "metadata": {},
   "outputs": [
    {
     "data": {
      "text/html": [
       "\n",
       "        <script>\n",
       "            function code_toggle_14069127303087514425() {\n",
       "                $('div.cell.code_cell.rendered.selected').find('div.input').toggle();\n",
       "            }\n",
       "\n",
       "            \n",
       "        </script>\n",
       "\n",
       "        <a href=\"javascript:code_toggle_14069127303087514425()\">Toggle show/hide</a>\n",
       "    "
      ],
      "text/plain": [
       "<IPython.core.display.HTML object>"
      ]
     },
     "execution_count": 17,
     "metadata": {},
     "output_type": "execute_result"
    }
   ],
   "source": [
    "# create a pivot-table\n",
    "tab4 = pd.pivot_table(regional_lts, values='amount',\n",
    "                      index=['partner_id', 'Field Partner Name',\n",
    "                             'country'],\n",
    "                      aggfunc='count')\n",
    "\n",
    "# sort the results in descending order\n",
    "tab4 = tab4.sort_values(by=['amount'], ascending=False)\n",
    "\n",
    "# rename the aggregated column to an appropiate label\n",
    "tab4.columns = ['count_of_amount']\n",
    "\n",
    "# make some index entries into columns\n",
    "tab4 = tab4.reset_index(level=['partner_id', 'Field Partner Name', 'country'])\n",
    "\n",
    "hide_toggle()"
   ]
  },
  {
   "cell_type": "code",
   "execution_count": 18,
   "metadata": {},
   "outputs": [
    {
     "data": {
      "text/html": [
       "\n",
       "        <script>\n",
       "            function code_toggle_15075720212859582453() {\n",
       "                $('div.cell.code_cell.rendered.selected').find('div.input').toggle();\n",
       "            }\n",
       "\n",
       "            \n",
       "        </script>\n",
       "\n",
       "        <a href=\"javascript:code_toggle_15075720212859582453()\">Toggle show/hide</a>\n",
       "    "
      ],
      "text/plain": [
       "<IPython.core.display.HTML object>"
      ]
     },
     "execution_count": 18,
     "metadata": {},
     "output_type": "execute_result"
    }
   ],
   "source": [
    "# create a pivot-table\n",
    "tab5 = pd.pivot_table(loan_data_copy, values='id', index=['partner_id'], aggfunc='count')\n",
    "\n",
    "# sort the results in descending order\n",
    "tab5 = tab5.sort_values(by=['id'], ascending=False)\n",
    "\n",
    "# rename the aggregated column to an appropiate label\n",
    "tab5.columns = ['number_of_loans']\n",
    "\n",
    "# make some index entries into columns\n",
    "tab5 = tab5.reset_index(level=['partner_id'])\n",
    "\n",
    "hide_toggle()"
   ]
  },
  {
   "cell_type": "code",
   "execution_count": 19,
   "metadata": {},
   "outputs": [
    {
     "name": "stdout",
     "output_type": "stream",
     "text": [
      "The shape of tab3 before merge:  (366, 2)\n",
      "The shape of tab3 after merge:  (366, 3)\n"
     ]
    },
    {
     "data": {
      "text/html": [
       "\n",
       "        <script>\n",
       "            function code_toggle_9245799137076131923() {\n",
       "                $('div.cell.code_cell.rendered.selected').find('div.input').toggle();\n",
       "            }\n",
       "\n",
       "            \n",
       "        </script>\n",
       "\n",
       "        <a href=\"javascript:code_toggle_9245799137076131923()\">Toggle show/hide</a>\n",
       "    "
      ],
      "text/plain": [
       "<IPython.core.display.HTML object>"
      ]
     },
     "execution_count": 19,
     "metadata": {},
     "output_type": "execute_result"
    }
   ],
   "source": [
    "# initial status message\n",
    "print('The shape of tab3 before merge: ', tab3.shape)\n",
    "\n",
    "# join the data, keeping only relevant entries\n",
    "tab3 = tab3.merge(tab5, on='partner_id')\n",
    "\n",
    "# final status message\n",
    "print('The shape of tab3 after merge: ', tab3.shape)\n",
    "\n",
    "hide_toggle()"
   ]
  },
  {
   "cell_type": "code",
   "execution_count": 20,
   "metadata": {},
   "outputs": [
    {
     "name": "stdout",
     "output_type": "stream",
     "text": [
      "The shape of tab3 before merge:  (366, 3)\n",
      "The shape of tab3 after merge:  (331, 6)\n"
     ]
    },
    {
     "data": {
      "text/html": [
       "\n",
       "        <script>\n",
       "            function code_toggle_3381316566890000198() {\n",
       "                $('div.cell.code_cell.rendered.selected').find('div.input').toggle();\n",
       "            }\n",
       "\n",
       "            \n",
       "        </script>\n",
       "\n",
       "        <a href=\"javascript:code_toggle_3381316566890000198()\">Toggle show/hide</a>\n",
       "    "
      ],
      "text/plain": [
       "<IPython.core.display.HTML object>"
      ]
     },
     "execution_count": 20,
     "metadata": {},
     "output_type": "execute_result"
    }
   ],
   "source": [
    "# initial status message\n",
    "print('The shape of tab3 before merge: ', tab3.shape)\n",
    "\n",
    "# join the data, keeping only relevant entries\n",
    "tab3 = tab3.merge(tab4, on='partner_id')\n",
    "\n",
    "# final status message\n",
    "print('The shape of tab3 after merge: ', tab3.shape)\n",
    "\n",
    "hide_toggle()"
   ]
  },
  {
   "cell_type": "code",
   "execution_count": 21,
   "metadata": {},
   "outputs": [
    {
     "name": "stdout",
     "output_type": "stream",
     "text": [
      "Out of the 366 partners that disbursed loans, KIVA had the contact details of 90.0% of them.\n"
     ]
    },
    {
     "data": {
      "text/html": [
       "\n",
       "        <script>\n",
       "            function code_toggle_10022324336797799612() {\n",
       "                $('div.cell.code_cell.rendered.selected').find('div.input').toggle();\n",
       "            }\n",
       "\n",
       "            \n",
       "        </script>\n",
       "\n",
       "        <a href=\"javascript:code_toggle_10022324336797799612()\">Toggle show/hide</a>\n",
       "    "
      ],
      "text/plain": [
       "<IPython.core.display.HTML object>"
      ]
     },
     "execution_count": 21,
     "metadata": {},
     "output_type": "execute_result"
    }
   ],
   "source": [
    "percentage2 = tab3.shape[0]/366 * 100\n",
    "percentage2 = round(percentage2, 0)\n",
    "\n",
    "print('Out of the 366 partners that disbursed loans, KIVA had the contact details of '+str(percentage2)+'% of them.')\n",
    "\n",
    "hide_toggle()"
   ]
  },
  {
   "cell_type": "markdown",
   "metadata": {},
   "source": [
    "The partners that received the most funding by KIVA were:"
   ]
  },
  {
   "cell_type": "code",
   "execution_count": 22,
   "metadata": {},
   "outputs": [
    {
     "data": {
      "image/png": "[encoded data removed]",
      "text/plain": [
       "<Figure size 432x288 with 1 Axes>"
      ]
     },
     "metadata": {
      "needs_background": "light"
     },
     "output_type": "display_data"
    },
    {
     "data": {
      "text/html": [
       "\n",
       "        <script>\n",
       "            function code_toggle_16804345484216330436() {\n",
       "                $('div.cell.code_cell.rendered.selected').find('div.input').toggle();\n",
       "            }\n",
       "\n",
       "            \n",
       "        </script>\n",
       "\n",
       "        <a href=\"javascript:code_toggle_16804345484216330436()\">Toggle show/hide</a>\n",
       "    "
      ],
      "text/plain": [
       "<IPython.core.display.HTML object>"
      ]
     },
     "execution_count": 22,
     "metadata": {},
     "output_type": "execute_result"
    }
   ],
   "source": [
    "# to have more details of the partners that received the most funding by KIVA,\n",
    "# sort the results in descending order\n",
    "tab3 = tab3.sort_values(by=['sum_of_funded_amount'], ascending=False)\n",
    "\n",
    "# drop the unecessary columns\n",
    "tab3 = tab3.drop('count_of_amount',1)\n",
    "\n",
    "# display top 10 results; do they match with the original tab3? They match!\n",
    "fig, ax = plt.subplots()\n",
    "ax.bar(tab3.iloc[0:10,3], (tab3.iloc[0:10,1]/1000000), color='green')\n",
    "plt.ylabel('Kiva donor overall contribution (in million USD)')\n",
    "ax.set_xticklabels(labels=tab3.iloc[0:10,3], rotation = (90), fontsize = 10, va='top', ha='left')\n",
    "plt.xlabel('Field partners')\n",
    "plt.title('FIELD PARTNERS THAT RECEIVED THE MOST FUNDING ON KIVA')\n",
    "plt.show()\n",
    "\n",
    "hide_toggle()"
   ]
  },
  {
   "cell_type": "markdown",
   "metadata": {},
   "source": [
    "The partners that serviced the highest number of loans on KIVA were:"
   ]
  },
  {
   "cell_type": "code",
   "execution_count": 31,
   "metadata": {},
   "outputs": [
    {
     "data": {
      "image/png": "[encoded data removed]",
      "text/plain": [
       "<Figure size 432x288 with 1 Axes>"
      ]
     },
     "metadata": {
      "needs_background": "light"
     },
     "output_type": "display_data"
    },
    {
     "data": {
      "text/html": [
       "\n",
       "        <script>\n",
       "            function code_toggle_17891434896175733019() {\n",
       "                $('div.cell.code_cell.rendered.selected').find('div.input').toggle();\n",
       "            }\n",
       "\n",
       "            \n",
       "        </script>\n",
       "\n",
       "        <a href=\"javascript:code_toggle_17891434896175733019()\">Toggle show/hide</a>\n",
       "    "
      ],
      "text/plain": [
       "<IPython.core.display.HTML object>"
      ]
     },
     "execution_count": 31,
     "metadata": {},
     "output_type": "execute_result"
    }
   ],
   "source": [
    "# sort the results in descending order\n",
    "tab3 = tab3.sort_values(by=['number_of_loans'], ascending=False)\n",
    "\n",
    "# display top 10 results in terms of number of loans\n",
    "fig, ax = plt.subplots()\n",
    "ax.bar(tab3.iloc[0:10,3], tab3.iloc[0:10,2], color='green')\n",
    "plt.ylabel('Total number of loans on Kiva')\n",
    "ax.set_xticklabels(labels=tab3.iloc[0:10,3], rotation = (90), fontsize = 10, va='top', ha='left')\n",
    "plt.xlabel('Field partners')\n",
    "plt.title('FIELD PARTNERS THAT SERVICED THE HIGHEST LOANS ON KIVA')\n",
    "plt.show()\n",
    "\n",
    "hide_toggle()"
   ]
  },
  {
   "cell_type": "code",
   "execution_count": 30,
   "metadata": {},
   "outputs": [
    {
     "data": {
      "image/png": "[encoded data removed]",
      "text/plain": [
       "<Figure size 432x288 with 1 Axes>"
      ]
     },
     "metadata": {
      "needs_background": "light"
     },
     "output_type": "display_data"
    },
    {
     "data": {
      "text/html": [
       "\n",
       "        <script>\n",
       "            function code_toggle_7590288875967353725() {\n",
       "                $('div.cell.code_cell.rendered.selected').find('div.input').toggle();\n",
       "            }\n",
       "\n",
       "            \n",
       "        </script>\n",
       "\n",
       "        <a href=\"javascript:code_toggle_7590288875967353725()\">Toggle show/hide</a>\n",
       "    "
      ],
      "text/plain": [
       "<IPython.core.display.HTML object>"
      ]
     },
     "execution_count": 30,
     "metadata": {},
     "output_type": "execute_result"
    }
   ],
   "source": [
    "# add a calculated column to the newly merged tab3\n",
    "tab3.loc[:, 'contribution_per_loan'] = tab3['sum_of_funded_amount']/tab3['number_of_loans']\n",
    "\n",
    "# sort the results in descending order\n",
    "tab3 = tab3.sort_values(by=['contribution_per_loan'], ascending=False)\n",
    "\n",
    "# display top 20 results in terms of donor contribution per loan\n",
    "fig, ax = plt.subplots()\n",
    "ax.bar(tab3.iloc[0:20,3], tab3.iloc[0:20,5], color='green')\n",
    "plt.ylabel('Kiva donor contribution per loan')\n",
    "ax.set_xticklabels(labels=tab3.iloc[0:20,3], rotation = (90), fontsize = 10, va='top', ha='left')\n",
    "plt.xlabel('Field partners')\n",
    "plt.title('FIELD PARTNERS THAT RECEIVED THE MOST VALUABLE LOANS ON KIVA')\n",
    "plt.show()\n",
    "\n",
    "hide_toggle()"
   ]
  },
  {
   "cell_type": "markdown",
   "metadata": {},
   "source": [
    "The per capita contribution shows most of the largest contributions per loan actually went directly to social impact businesses."
   ]
  },
  {
   "cell_type": "code",
   "execution_count": 32,
   "metadata": {},
   "outputs": [
    {
     "data": {
      "text/html": [
       "<div>\n",
       "<style scoped>\n",
       "    .dataframe tbody tr th:only-of-type {\n",
       "        vertical-align: middle;\n",
       "    }\n",
       "\n",
       "    .dataframe tbody tr th {\n",
       "        vertical-align: top;\n",
       "    }\n",
       "\n",
       "    .dataframe thead th {\n",
       "        text-align: right;\n",
       "    }\n",
       "</style>\n",
       "<table border=\"1\" class=\"dataframe\">\n",
       "  <thead>\n",
       "    <tr style=\"text-align: right;\">\n",
       "      <th></th>\n",
       "      <th>partner_id</th>\n",
       "      <th>sum_of_funded_amount</th>\n",
       "      <th>number_of_loans</th>\n",
       "      <th>contribution_per_loan</th>\n",
       "    </tr>\n",
       "  </thead>\n",
       "  <tbody>\n",
       "    <tr>\n",
       "      <th>count</th>\n",
       "      <td>331.000000</td>\n",
       "      <td>3.310000e+02</td>\n",
       "      <td>331.000000</td>\n",
       "      <td>331.000000</td>\n",
       "    </tr>\n",
       "    <tr>\n",
       "      <th>mean</th>\n",
       "      <td>319.592145</td>\n",
       "      <td>1.543571e+06</td>\n",
       "      <td>1987.135952</td>\n",
       "      <td>7611.247805</td>\n",
       "    </tr>\n",
       "    <tr>\n",
       "      <th>std</th>\n",
       "      <td>146.720761</td>\n",
       "      <td>3.325248e+06</td>\n",
       "      <td>6638.407914</td>\n",
       "      <td>13859.352972</td>\n",
       "    </tr>\n",
       "    <tr>\n",
       "      <th>min</th>\n",
       "      <td>9.000000</td>\n",
       "      <td>1.850000e+03</td>\n",
       "      <td>1.000000</td>\n",
       "      <td>106.578947</td>\n",
       "    </tr>\n",
       "    <tr>\n",
       "      <th>25%</th>\n",
       "      <td>200.000000</td>\n",
       "      <td>7.342500e+04</td>\n",
       "      <td>24.000000</td>\n",
       "      <td>730.639127</td>\n",
       "    </tr>\n",
       "    <tr>\n",
       "      <th>50%</th>\n",
       "      <td>340.000000</td>\n",
       "      <td>3.680000e+05</td>\n",
       "      <td>294.000000</td>\n",
       "      <td>1444.938849</td>\n",
       "    </tr>\n",
       "    <tr>\n",
       "      <th>75%</th>\n",
       "      <td>449.500000</td>\n",
       "      <td>1.335962e+06</td>\n",
       "      <td>1680.500000</td>\n",
       "      <td>4172.415865</td>\n",
       "    </tr>\n",
       "    <tr>\n",
       "      <th>max</th>\n",
       "      <td>536.000000</td>\n",
       "      <td>3.412790e+07</td>\n",
       "      <td>107188.000000</td>\n",
       "      <td>50000.000000</td>\n",
       "    </tr>\n",
       "  </tbody>\n",
       "</table>\n",
       "</div>"
      ],
      "text/plain": [
       "       partner_id  sum_of_funded_amount  number_of_loans  \\\n",
       "count  331.000000          3.310000e+02       331.000000   \n",
       "mean   319.592145          1.543571e+06      1987.135952   \n",
       "std    146.720761          3.325248e+06      6638.407914   \n",
       "min      9.000000          1.850000e+03         1.000000   \n",
       "25%    200.000000          7.342500e+04        24.000000   \n",
       "50%    340.000000          3.680000e+05       294.000000   \n",
       "75%    449.500000          1.335962e+06      1680.500000   \n",
       "max    536.000000          3.412790e+07    107188.000000   \n",
       "\n",
       "       contribution_per_loan  \n",
       "count             331.000000  \n",
       "mean             7611.247805  \n",
       "std             13859.352972  \n",
       "min               106.578947  \n",
       "25%               730.639127  \n",
       "50%              1444.938849  \n",
       "75%              4172.415865  \n",
       "max             50000.000000  "
      ]
     },
     "execution_count": 32,
     "metadata": {},
     "output_type": "execute_result"
    }
   ],
   "source": [
    "tab3.describe()"
   ]
  },
  {
   "cell_type": "markdown",
   "metadata": {},
   "source": [
    "#### The characteristics of KIVA borrowers\n",
    "\n",
    "In this section, we seek to understand KIVA borrower characteristics.\n",
    "\n",
    "##### 1. What is the size of the shortfall for each individual borrower in a given sector?"
   ]
  },
  {
   "cell_type": "code",
   "execution_count": null,
   "metadata": {},
   "outputs": [],
   "source": [
    "# create a pivot-table\n",
    "tab6 = pd.pivot_table(loan_data_copy, values='funded_amount', index=['sector'], aggfunc='sum')\n",
    "\n",
    "# sort the results in descending order\n",
    "tab6 = tab6.sort_values(by=['funded_amount'], ascending=False)\n",
    "\n",
    "# rename the aggregated column to an appropiate label\n",
    "tab6.columns = ['sum_of_funded_amount']\n",
    "\n",
    "# make some index entries into columns\n",
    "tab6 = tab6.reset_index(level=['sector'])\n",
    "\n",
    "# and display top 10 results\n",
    "tab6.head(10)"
   ]
  },
  {
   "cell_type": "code",
   "execution_count": null,
   "metadata": {},
   "outputs": [],
   "source": [
    "loans_by_sector = pd.pivot_table(loan_data_copy, values='id', index=['sector'], aggfunc='count')\n",
    "\n",
    "# sort the results in descending order\n",
    "loans_by_sector = loans_by_sector.sort_values(by=['id'], ascending=False)\n",
    "\n",
    "# rename the aggregated column to an appropiate label\n",
    "loans_by_sector.columns = ['number_of_loans']\n",
    "\n",
    "# make some index entries into columns\n",
    "loans_by_sector = loans_by_sector.reset_index(level=['sector'])\n",
    "\n",
    "# and display top 10 results\n",
    "loans_by_sector.head(10)"
   ]
  },
  {
   "cell_type": "code",
   "execution_count": null,
   "metadata": {},
   "outputs": [],
   "source": [
    "# create a pivot-table\n",
    "loan_amounts_by_sector = pd.pivot_table(loan_data_copy, values='loan_amount', index=['sector'], aggfunc='sum')\n",
    "\n",
    "# sort the results in descending order\n",
    "loan_amounts_by_sector = loan_amounts_by_sector.sort_values(by=['loan_amount'], ascending=False)\n",
    "\n",
    "# rename the aggregated column to an appropiate label\n",
    "loan_amounts_by_sector.columns = ['sum_of_loan_amount']\n",
    "\n",
    "# make some index entries into columns\n",
    "loan_amounts_by_sector = loan_amounts_by_sector.reset_index(level=['sector'])\n",
    "\n",
    "# and display top 10 results\n",
    "loan_amounts_by_sector.head(10)"
   ]
  },
  {
   "cell_type": "code",
   "execution_count": null,
   "metadata": {},
   "outputs": [],
   "source": [
    "# initial status message\n",
    "print('The shape of tab6 before merge: ', tab6.shape)\n",
    "\n",
    "# join the data, keeping only relevant entries\n",
    "tab6 = tab6.merge(loans_by_sector, on='sector')\n",
    "\n",
    "# final status message\n",
    "print('The shape of tab6 after merge: ', tab6.shape)"
   ]
  },
  {
   "cell_type": "code",
   "execution_count": null,
   "metadata": {},
   "outputs": [],
   "source": [
    "# initial status message\n",
    "print('The shape of tab6 before merge: ', tab6.shape)\n",
    "\n",
    "# join the data, keeping only relevant entries\n",
    "tab6 = tab6.merge(loan_amounts_by_sector, on='sector')\n",
    "\n",
    "# final status message\n",
    "print('The shape of tab6 after merge: ', tab6.shape)"
   ]
  },
  {
   "cell_type": "code",
   "execution_count": null,
   "metadata": {},
   "outputs": [],
   "source": [
    "# assess additional metrics\n",
    "tab6.loc[:, 'donor_contribution_per_loan'] = tab6['sum_of_funded_amount']/tab6['number_of_loans']\n",
    "tab6.loc[:, 'funding_gap_per_loan'] = (tab6['sum_of_loan_amount'] - tab6['sum_of_funded_amount'])/tab6['number_of_loans']\n",
    "\n",
    "# sort the results in descending order\n",
    "tab6 = tab6.sort_values(by=['funding_gap_per_loan'], ascending=False)\n",
    "\n",
    "# display all results\n",
    "tab6"
   ]
  },
  {
   "cell_type": "markdown",
   "metadata": {},
   "source": [
    "It appears that the Entertainment sector has the highest funding gap and Manufacturing has the lowest funding gap."
   ]
  },
  {
   "cell_type": "markdown",
   "metadata": {},
   "source": [
    "##### 2. How were loans and funding distributed across the genders?"
   ]
  },
  {
   "cell_type": "code",
   "execution_count": null,
   "metadata": {},
   "outputs": [],
   "source": [
    "# count frequency of female and male to identify number of borrowers\n",
    "loan_data_copy.loc[:, 'number_of_all_borrowers'] = loan_data_copy['borrower_genders'].str.count('male') # counts both instances of female and male - they share the 'male' element\n",
    "loan_data_copy.loc[:, 'number_of_female_borrowers'] = loan_data_copy['borrower_genders'].str.count('female')\n",
    "loan_data_copy.loc[:, 'number_of_male_borrowers'] = loan_data_copy['number_of_all_borrowers'] - loan_data_copy['number_of_female_borrowers']"
   ]
  },
  {
   "cell_type": "code",
   "execution_count": null,
   "metadata": {},
   "outputs": [],
   "source": [
    "# create a pivot-table\n",
    "tab7 = pd.pivot_table(loan_data_copy, values=['term_in_months', 'number_of_all_borrowers', 'number_of_male_borrowers', 'number_of_female_borrowers', 'loan_amount', 'funded_amount'], index=['repayment_interval'], aggfunc='sum')\n",
    "\n",
    "# sort the results in descending order\n",
    "tab7 = tab7.sort_values(by=['number_of_all_borrowers'], ascending=False)\n",
    "\n",
    "# make some index entries into columns\n",
    "tab7 = tab7.reset_index(level=['repayment_interval'])\n",
    "\n",
    "# and display all results\n",
    "tab7"
   ]
  },
  {
   "cell_type": "code",
   "execution_count": null,
   "metadata": {},
   "outputs": [],
   "source": [
    "# create a pivot-table\n",
    "loan_repayment = pd.pivot_table(loan_data_copy, values='id', index=['repayment_interval'], aggfunc='count')\n",
    "\n",
    "# sort the results in descending order\n",
    "loan_repayment = loan_repayment.sort_values(by=['id'], ascending=False)\n",
    "\n",
    "# rename the aggregated column to an appropiate label\n",
    "loan_repayment.columns = ['number_of_loans']\n",
    "\n",
    "# make some index entries into columns\n",
    "loan_repayment = loan_repayment.reset_index(level=['repayment_interval'])\n",
    "\n",
    "# and display all results\n",
    "loan_repayment"
   ]
  },
  {
   "cell_type": "code",
   "execution_count": null,
   "metadata": {},
   "outputs": [],
   "source": [
    "# initial status message\n",
    "print('The shape of tab7 before merge: ', tab7.shape)\n",
    "\n",
    "# join the data, keeping only relevant entries\n",
    "tab7 = tab7.merge(loan_repayment, on='repayment_interval')\n",
    "\n",
    "# final status message\n",
    "print('The shape of tab7 after merge: ', tab7.shape)"
   ]
  },
  {
   "cell_type": "code",
   "execution_count": null,
   "metadata": {},
   "outputs": [],
   "source": [
    "tab7"
   ]
  },
  {
   "cell_type": "code",
   "execution_count": null,
   "metadata": {},
   "outputs": [],
   "source": [
    "tab7.loc[:, 'female_pct_of_total_borrowers'] = round((tab7['number_of_female_borrowers']/tab7['number_of_all_borrowers'])*100, 2)\n",
    "tab7.loc[:, 'male_pct_of_total_borrowers'] = round((tab7['number_of_male_borrowers']/tab7['number_of_all_borrowers'])*100, 2)\n",
    "tab7.loc[:, 'million_USD_female_total_funding'] = round((tab7['female_pct_of_total_borrowers']/100*tab7['funded_amount'])/1000000, 2)\n",
    "tab7.loc[:, 'million_USD_male_total_funding'] = round((tab7['male_pct_of_total_borrowers']/100*tab7['funded_amount'])/1000000, 2)\n",
    "tab7.loc[:, 'million_USD_female_total_loan'] = round((tab7['female_pct_of_total_borrowers']/100*tab7['loan_amount'])/1000000, 2)\n",
    "tab7.loc[:, 'million_USD_male_total_loan'] = round((tab7['male_pct_of_total_borrowers']/100*tab7['loan_amount'])/1000000, 2)"
   ]
  },
  {
   "cell_type": "code",
   "execution_count": null,
   "metadata": {},
   "outputs": [],
   "source": [
    "# drop raw data columns\n",
    "tab7 = tab7.drop(['funded_amount', 'loan_amount',\n",
    "                  'number_of_all_borrowers', 'number_of_female_borrowers',\n",
    "                  'number_of_male_borrowers', 'term_in_months'],1)\n",
    "\n",
    "# display summary\n",
    "tab7"
   ]
  },
  {
   "cell_type": "markdown",
   "metadata": {},
   "source": [
    "#### Global welfare\n",
    "\n",
    "In this section, we seek to explore the data to understand the financial well-being of various countries with the aid of an external dataset"
   ]
  },
  {
   "cell_type": "markdown",
   "metadata": {},
   "source": [
    "What percentage of their monthly expenditure does the average citizen devote to loan repayments?"
   ]
  },
  {
   "cell_type": "code",
   "execution_count": null,
   "metadata": {},
   "outputs": [],
   "source": [
    "# Made a copy of the data: \n",
    "expenditure = PCE_data.copy()\n",
    "\n",
    "# Reference rows:\n",
    "print('')\n",
    "print(expenditure.iloc[0,0])\n",
    "print(expenditure.iloc[18,0])\n",
    "print(expenditure.iloc[49,0])\n",
    "print(expenditure.iloc[76,0])\n",
    "print(expenditure.iloc[87,0])\n",
    "print(expenditure.iloc[132,0])\n",
    "print(expenditure.iloc[140,0])\n",
    "\n",
    "# Make a regional column for the data\n",
    "expenditure.loc[:, 'region'] = 0\n",
    "expenditure['region'].iloc[1:18] = 'East Asia and Pacific'\n",
    "expenditure['region'].iloc[19:49] = 'Europe and Central Asia'\n",
    "expenditure['region'].iloc[50:76] = 'Latin America and the Caribbean'\n",
    "expenditure['region'].iloc[77:87] = 'Middle East and North Africa'\n",
    "expenditure['region'].iloc[88:132] = 'Other High Income'\n",
    "expenditure['region'].iloc[133:140] = 'South Asia'\n",
    "expenditure['region'].iloc[141:186] = 'Sub-Saharan Africa'\n",
    "\n",
    "# Delete header rows\n",
    "expenditure = expenditure.drop(labels=[0,18,49,76,87,132,140], axis=0)\n",
    "\n",
    "print('')\n",
    "print(expenditure.iloc[0,0]) # should not have East Asia and Pacific\n",
    "print(expenditure.iloc[18,0]) # should not have Europe and Central Asia\n",
    "print(expenditure.iloc[49,0]) # should not have Latin America and the Caribbean\n",
    "print(expenditure.iloc[76,0]) # should not have Middle East and North Africa\n",
    "print(expenditure.iloc[87,0]) # should not have Other high Income\n",
    "print(expenditure.iloc[132,0]) # should not have South Asia\n",
    "print(expenditure.iloc[140,0]) # should not have Sub-Saharan Africa\n",
    "\n",
    "print('')\n",
    "print(expenditure.shape)\n",
    "\n",
    "# Convert any 'n/a' strings to NaN values\n",
    "expenditure = expenditure.replace('n/a', np.nan)\n",
    "\n",
    "# Convert any numeric data stored as a string into a decimal\n",
    "print('')\n",
    "print(expenditure.dtypes)\n",
    "\n",
    "expenditure['1960'] = expenditure['1960'].astype('float64')\n",
    "expenditure['1961'] = expenditure['1961'].astype('float64')\n",
    "expenditure['1962'] = expenditure['1962'].astype('float64')\n",
    "expenditure['1963'] = expenditure['1963'].astype('float64')\n",
    "expenditure['1964'] = expenditure['1964'].astype('float64')\n",
    "expenditure['1965'] = expenditure['1965'].astype('float64')\n",
    "expenditure['1966'] = expenditure['1966'].astype('float64')\n",
    "expenditure['1967'] = expenditure['1967'].astype('float64')\n",
    "expenditure['1968'] = expenditure['1968'].astype('float64')\n",
    "\n",
    "print('')\n",
    "print(expenditure.dtypes)\n"
   ]
  },
  {
   "cell_type": "code",
   "execution_count": null,
   "metadata": {},
   "outputs": [],
   "source": [
    "YearlyExpenditure = expenditure.loc[:,'2014':'2017']\n",
    "\n",
    "MonthlyExpenditure = YearlyExpenditure/12\n",
    "\n",
    "MonthlyExpenditure.loc[:,'country'] = expenditure['Unnamed: 0']\n",
    "MonthlyExpenditure.loc[:,'region'] = expenditure['region']"
   ]
  },
  {
   "cell_type": "code",
   "execution_count": null,
   "metadata": {},
   "outputs": [],
   "source": [
    "MonthlyExpenditure"
   ]
  },
  {
   "cell_type": "code",
   "execution_count": null,
   "metadata": {},
   "outputs": [],
   "source": [
    "# get the monthly repayment on each loan\n",
    "loan_data_copy.loc[:, 'monthly_loan_repayment'] = loan_data_copy['loan_amount']/loan_data_copy['term_in_months']\n",
    "\n",
    "# get the year that the loan was issued\n",
    "loan_data_copy.loc[:,'disbursement_year'] = loan_data['disbursed_time'].dt.year\n",
    "\n",
    "# create a pivot-table\n",
    "tab8 = pd.pivot_table(loan_data_copy, values=['monthly_loan_repayment'], columns='disbursement_year', index=['country'], aggfunc='mean')\n",
    "\n",
    "# drop level and rename columns\n",
    "tab8 = tab8.droplevel('disbursement_year', axis=1)\n",
    "tab8.columns = ['monthly_loan_repayment 2013', 'monthly_loan_repayment 2014',\n",
    "                'monthly_loan_repayment 2015', 'monthly_loan_repayment 2016',\n",
    "                'monthly_loan_repayment 2017']\n",
    "\n",
    "# make some index entries into columns\n",
    "tab8 = tab8.reset_index(level=['country'])\n",
    "\n",
    "# and display all results\n",
    "tab8"
   ]
  },
  {
   "cell_type": "code",
   "execution_count": null,
   "metadata": {},
   "outputs": [],
   "source": [
    "# compare country/territory labels in the 2 datasets\n",
    "print(tab8['country'].unique())\n",
    "print('')\n",
    "print(MonthlyExpenditure['country'].unique())"
   ]
  },
  {
   "cell_type": "code",
   "execution_count": null,
   "metadata": {},
   "outputs": [],
   "source": [
    "tab8[tab8['country'].isin(MonthlyExpenditure['country']) == False]"
   ]
  },
  {
   "cell_type": "code",
   "execution_count": null,
   "metadata": {},
   "outputs": [],
   "source": [
    "tab8.iloc[16,0] = 'Congo, Republic of'\n",
    "tab8.iloc[18,0] = \"Cote d'Ivoire\"\n",
    "tab8.iloc[21,0] = 'Egypt, Arab Republic of'\n",
    "tab8.iloc[35,0] = 'Kyrgyz Republic'\n",
    "tab8.iloc[48,0] = 'Myanmar'\n",
    "tab8.iloc[54,0] = 'West Bank and Gaza'\n",
    "# tab8.iloc[61,0] missing in other dataset\n",
    "# tab8.iloc[62,0] missing in other dataset; only have American Samoa\n",
    "# tab8.iloc[63,0] missing in other dataset\n",
    "# tab8.iloc[65,0] missing in other dataset\n",
    "# tab8.iloc[66,0] missing in other dataset\n",
    "tab8.iloc[73,0] = 'Congo, Democratic Republic of'\n",
    "# tab8.iloc[82,0] missing in other dataset"
   ]
  },
  {
   "cell_type": "code",
   "execution_count": null,
   "metadata": {},
   "outputs": [],
   "source": [
    "tab8[tab8['country'].isin(MonthlyExpenditure['country']) == False]"
   ]
  },
  {
   "cell_type": "code",
   "execution_count": null,
   "metadata": {},
   "outputs": [],
   "source": [
    "# initial status message\n",
    "print('The shape of tab8 before merge: ', tab8.shape)\n",
    "\n",
    "# join the data, keeping only relevant entries\n",
    "tab8 = tab8.merge(MonthlyExpenditure, on='country')\n",
    "\n",
    "# final status message\n",
    "print('The shape of tab8 after merge: ', tab8.shape)"
   ]
  },
  {
   "cell_type": "code",
   "execution_count": null,
   "metadata": {},
   "outputs": [],
   "source": [
    "# Get the share of wallet per month\n",
    "tab8.loc[:, '% of monthly expenditure, 2014'] = (tab8['monthly_loan_repayment 2014']/tab8['2014']) * 100\n",
    "tab8.loc[:, '% of monthly expenditure, 2015'] = (tab8['monthly_loan_repayment 2015']/tab8['2015']) * 100\n",
    "tab8.loc[:, '% of monthly expenditure, 2016'] = (tab8['monthly_loan_repayment 2016']/tab8['2016']) * 100\n",
    "tab8.loc[:, '% of monthly expenditure, 2017'] = (tab8['monthly_loan_repayment 2017']/tab8['2017']) * 100\n",
    "\n",
    "# Round off values to 2 decimal places\n",
    "tab8['% of monthly expenditure, 2014'] = round(tab8['% of monthly expenditure, 2014'], 2)\n",
    "tab8['% of monthly expenditure, 2015'] = round(tab8['% of monthly expenditure, 2015'], 2)\n",
    "tab8['% of monthly expenditure, 2016'] = round(tab8['% of monthly expenditure, 2016'], 2)\n",
    "tab8['% of monthly expenditure, 2017'] = round(tab8['% of monthly expenditure, 2017'], 2)"
   ]
  },
  {
   "cell_type": "code",
   "execution_count": null,
   "metadata": {},
   "outputs": [],
   "source": [
    "tab8.head(5)"
   ]
  },
  {
   "cell_type": "code",
   "execution_count": null,
   "metadata": {},
   "outputs": [],
   "source": [
    "tab8 = tab8.drop(['monthly_loan_repayment 2013', 'monthly_loan_repayment 2014',\n",
    "                  'monthly_loan_repayment 2015', 'monthly_loan_repayment 2016',\n",
    "                  'monthly_loan_repayment 2017', '2014', '2015', '2016', '2017'], 1)\n",
    "tab8.head(3)"
   ]
  },
  {
   "cell_type": "code",
   "execution_count": null,
   "metadata": {},
   "outputs": [],
   "source": [
    "# sort the results in descending order\n",
    "tab8 = tab8.sort_values(by=['% of monthly expenditure, 2017'], ascending=False)\n",
    "\n",
    "# and display top 10 results\n",
    "tab8.head(10)"
   ]
  },
  {
   "cell_type": "markdown",
   "metadata": {},
   "source": [
    "What would the top 10 results be if we filtered out all null values?"
   ]
  },
  {
   "cell_type": "code",
   "execution_count": null,
   "metadata": {},
   "outputs": [],
   "source": [
    "# drop null values\n",
    "tab8 = tab8.dropna(axis=0)\n",
    "\n",
    "# sort the results in descending order\n",
    "tab8 = tab8.sort_values(by=['% of monthly expenditure, 2017'], ascending=False)\n",
    "\n",
    "# and display top 10 results\n",
    "tab8.head(10)"
   ]
  },
  {
   "cell_type": "markdown",
   "metadata": {},
   "source": [
    "It appears that the debt burden for the countries above is quite high. Which 10 countries have the lowest debt burden?"
   ]
  },
  {
   "cell_type": "code",
   "execution_count": null,
   "metadata": {},
   "outputs": [],
   "source": [
    "# sort the results in descending order\n",
    "tab8 = tab8.sort_values(by=['% of monthly expenditure, 2017'], ascending=True)\n",
    "\n",
    "# and display top 10 results\n",
    "tab8.head(10)"
   ]
  }
 ],
 "metadata": {
  "kernelspec": {
   "display_name": "Python 3",
   "language": "python",
   "name": "python3"
  },
  "language_info": {
   "codemirror_mode": {
    "name": "ipython",
    "version": 3
   },
   "file_extension": ".py",
   "mimetype": "text/x-python",
   "name": "python",
   "nbconvert_exporter": "python",
   "pygments_lexer": "ipython3",
   "version": "3.8.0"
  }
 },
 "nbformat": 4,
 "nbformat_minor": 4
}
